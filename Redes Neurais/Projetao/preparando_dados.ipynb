{
 "cells": [
  {
   "cell_type": "markdown",
   "metadata": {},
   "source": [
    "Primeiro separei os personagens com o maior número de imagens  "
   ]
  },
  {
   "cell_type": "code",
   "execution_count": null,
   "metadata": {},
   "outputs": [],
   "source": [
    "import os\n",
    "from collections import Counter\n",
    "import pandas as pd\n",
    "import cv2\n",
    "import shutil"
   ]
  },
  {
   "cell_type": "code",
   "execution_count": 7,
   "metadata": {},
   "outputs": [
    {
     "name": "stdout",
     "output_type": "stream",
     "text": [
      "                 Personagem  Quantidade de Imagens\n",
      "0             homer_simpson                   2246\n",
      "1              ned_flanders                   1454\n",
      "2               moe_szyslak                   1452\n",
      "3              lisa_simpson                   1354\n",
      "4              bart_simpson                   1342\n",
      "5             marge_simpson                   1291\n",
      "6          krusty_the_clown                   1206\n",
      "7         principal_skinner                   1194\n",
      "8  charles_montgomery_burns                   1193\n",
      "9       milhouse_van_houten                   1079\n"
     ]
    }
   ],
   "source": [
    "# Diretório onde estão as pastas dos personagens\n",
    "diretorio_base_treino = r'C:\\Users\\Pichau\\Desktop\\Faculdade\\Projects\\Facul Repositorios\\Repositorios_Universitarios\\Redes Neurais\\Projetao\\simpsons_dataset'\n",
    "\n",
    "# Obtendo todas as subpastas (personagens) e seus nomes\n",
    "subpastas = [(f.path, f.name) for f in os.scandir(diretorio_base_treino) if f.is_dir()]\n",
    "\n",
    "contagem_imagens_por_personagem = {}\n",
    "for subpasta, nome_pasta in subpastas:\n",
    "    arquivos = os.listdir(subpasta)\n",
    "    contagem_imagens_por_personagem[nome_pasta] = len([arquivo for arquivo in arquivos if arquivo.endswith('.jpg') or arquivo.endswith('.png')])\n",
    "\n",
    "# Ordenar as subpastas pelos números de imagens e pegar os 10 primeiros\n",
    "top_10_personagens = Counter(contagem_imagens_por_personagem).most_common(10)\n",
    "\n",
    "df = pd.DataFrame(top_10_personagens, columns=['Personagem', 'Quantidade de Imagens'])\n",
    "\n",
    "\n",
    "print(df)\n"
   ]
  },
  {
   "cell_type": "markdown",
   "metadata": {},
   "source": [
    "# organisando o dataser de treino\n",
    "\n",
    "\n",
    "Recortando as imagens 75x75 e rotacionando as imagens 45 e 90 graus  e selecionando apenas as imagens dos personagens que se apresentaram na lista acima "
   ]
  },
  {
   "cell_type": "code",
   "execution_count": null,
   "metadata": {},
   "outputs": [],
   "source": [
    "# Função para redimensionar e salvar imagens\n",
    "def redimensionar_e_rotacionar_imagens(diretorio_pasta, personagem, caminho_destino):\n",
    "    angulos = [45, 90]    # Ângulos de rotação desejados\n",
    "\n",
    "    for arquivo in os.listdir(diretorio_pasta):\n",
    "        if arquivo.endswith('.jpg') or arquivo.endswith('.png'):# Caminho completo da imagem original\n",
    "            caminho_imagem_original = os.path.join(diretorio_pasta, arquivo)\n",
    "\n",
    "            # Ler a imagem original\n",
    "            imagem_original = cv2.imread(caminho_imagem_original)\n",
    "\n",
    "            # Redimensionar a imagem original para 75x75\n",
    "            imagem_redimensionada = cv2.resize(imagem_original, (75, 75))\n",
    "\n",
    "            # Salvar imagem redimensionada\n",
    "            caminho_destino_imagem_redimensionada = os.path.join(caminho_destino, f'{personagem}_{arquivo}')\n",
    "            cv2.imwrite(caminho_destino_imagem_redimensionada, imagem_redimensionada)\n",
    "\n",
    "            # Rotacionar e salvar a imagem em diferentes ângulos\n",
    "            for angulo in angulos:\n",
    "                # Rotacionar a imagem\n",
    "                matriz_rotacao = cv2.getRotationMatrix2D((imagem_original.shape[1] / 2, imagem_original.shape[0] / 2), angulo, 1)\n",
    "                imagem_rotacionada = cv2.warpAffine(imagem_original, matriz_rotacao, (imagem_original.shape[1], imagem_original.shape[0]))\n",
    "\n",
    "                # Redimensionar a imagem rotacionada para 75x75\n",
    "                imagem_rotacionada_redimensionada = cv2.resize(imagem_rotacionada, (75, 75))\n",
    "\n",
    "                # Salvar a imagem rotacionada\n",
    "                caminho_destino_imagem_rotacionada = os.path.join(caminho_destino, f'{personagem}_{arquivo[:-4]}_rot{angulo}.jpg')\n",
    "                cv2.imwrite(caminho_destino_imagem_rotacionada, imagem_rotacionada_redimensionada)\n",
    "\n",
    "\n",
    "# Diretório onde estão as pastas dos personagens\n",
    "diretorio_base_treino = r'C:\\Users\\Pichau\\Desktop\\Faculdade\\Projects\\Facul Repositorios\\Repositorios_Universitarios\\Redes Neurais\\Projetao\\simpsons_dataset'\n",
    "\n",
    "caminho_destino = 'dataset_treino'\n",
    "\n",
    "# Loop sobre os personagens e suas contagens\n",
    "for personagem, _ in top_10_personagens:\n",
    "    # Caminho completo da pasta do personagem\n",
    "    diretorio_pasta = os.path.join(diretorio_base_treino, personagem)\n",
    "\n",
    "    # Verificar se a pasta existe\n",
    "    if os.path.exists(diretorio_pasta):\n",
    "        # Criar a pasta de destino se não existir\n",
    "        caminho_destino_personagem = os.path.join(caminho_destino, personagem)\n",
    "        os.makedirs(caminho_destino_personagem, exist_ok=True)\n",
    "\n",
    "        redimensionar_e_rotacionar_imagens(diretorio_pasta, personagem, caminho_destino_personagem)\n"
   ]
  },
  {
   "cell_type": "markdown",
   "metadata": {},
   "source": [
    "Corrigindo um problema do banco de testes, separando e catalogando."
   ]
  },
  {
   "cell_type": "code",
   "execution_count": null,
   "metadata": {},
   "outputs": [],
   "source": [
    "# Diretório onde estão as imagens misturadas\n",
    "diretorio_base = r'C:\\Users\\Pichau\\Desktop\\Faculdade\\Projects\\Facul Repositorios\\Repositorios_Universitarios\\Redes Neurais\\Projetao\\kaggle_simpson_testset'\n",
    "\n",
    "# Criar uma lista de todos os personagens presentes nas imagens\n",
    "personagens = set()\n",
    "\n",
    "# Listar todos os arquivos no diretório base\n",
    "for arquivo in os.listdir(diretorio_base):\n",
    "    # Verificar se é um arquivo de imagem\n",
    "    if arquivo.endswith('.jpg') or arquivo.endswith('.png'):\n",
    "        # Extrair o nome do personagem do nome do arquivo\n",
    "        nome_personagem = '_'.join(arquivo.split('_')[:-1])\n",
    "        # Adicionar o nome do personagem à lista de personagens\n",
    "        personagens.add(nome_personagem)\n",
    "\n",
    "for personagem in personagens: # Criar uma pasta para cada personagem\n",
    "    # Caminho para a pasta do personagem\n",
    "    caminho_destino = os.path.join(diretorio_base, personagem)\n",
    "    # Criar a pasta se ela não existir\n",
    "    os.makedirs(caminho_destino, exist_ok=True)\n",
    "\n",
    "# Mover cada imagem para a pasta do seu respectivo personagem\n",
    "for arquivo in os.listdir(diretorio_base):\n",
    "    # Verificar se é um arquivo de imagem\n",
    "    if arquivo.endswith('.jpg') or arquivo.endswith('.png'):\n",
    "        # Extrair o nome do personagem do nome do arquivo\n",
    "        nome_personagem = '_'.join(arquivo.split('_')[:-1])\n",
    "        # Caminho de origem do arquivo\n",
    "        caminho_origem = os.path.join(diretorio_base, arquivo)\n",
    "        # Caminho de destino da pasta do personagem\n",
    "        caminho_destino = os.path.join(diretorio_base, nome_personagem)\n",
    "        # Mover o arquivo para a pasta do personagem\n",
    "        shutil.move(caminho_origem, caminho_destino)\n"
   ]
  },
  {
   "cell_type": "markdown",
   "metadata": {},
   "source": [
    "Montando a pasta com o conjunto de testes para os modelos"
   ]
  },
  {
   "cell_type": "code",
   "execution_count": null,
   "metadata": {},
   "outputs": [],
   "source": [
    "# Diretório onde estão as pastas dos personagens\n",
    "diretorio_base_treino = r'C:\\Users\\Pichau\\Desktop\\Faculdade\\Projects\\Facul Repositorios\\Repositorios_Universitarios\\Redes Neurais\\Projetao\\simpson_testset'\n",
    "\n",
    "# Diretório de destino para as imagens redimensionadas e rotacionadas\n",
    "caminho_destino = 'testset_simpsons'\n",
    "\n",
    "# Loop sobre os personagens e suas contagens\n",
    "for personagem, _ in top_10_personagens:\n",
    "    # Caminho completo da pasta do personagem\n",
    "    diretorio_pasta = os.path.join(diretorio_base_treino, personagem)\n",
    "\n",
    "    # Verificar se a pasta existe\n",
    "    if os.path.exists(diretorio_pasta):\n",
    "        # Criar a pasta de destino se não existir\n",
    "        caminho_destino_personagem = os.path.join(caminho_destino, personagem)\n",
    "        os.makedirs(caminho_destino_personagem, exist_ok=True)\n",
    "\n",
    "        # Redimensionar e rotacionar imagens\n",
    "        redimensionar_e_rotacionar_imagens(diretorio_pasta, personagem, caminho_destino_personagem)"
   ]
  },
  {
   "cell_type": "markdown",
   "metadata": {},
   "source": [
    "Contabilizando o resultados das modificações na pasta de treinamento "
   ]
  },
  {
   "cell_type": "code",
   "execution_count": 16,
   "metadata": {},
   "outputs": [
    {
     "name": "stdout",
     "output_type": "stream",
     "text": [
      "                 Personagem  Quantidade de Imagens\n",
      "0             homer_simpson                   6738\n",
      "1              ned_flanders                   4362\n",
      "2               moe_szyslak                   4356\n",
      "3              lisa_simpson                   4062\n",
      "4              bart_simpson                   4026\n",
      "5             marge_simpson                   3873\n",
      "6          krusty_the_clown                   3618\n",
      "7         principal_skinner                   3582\n",
      "8  charles_montgomery_burns                   3579\n",
      "9       milhouse_van_houten                   3237\n"
     ]
    }
   ],
   "source": [
    "# Diretório onde estão as pastas dos personagens\n",
    "diretorio_base_treino = r'C:\\Users\\Pichau\\Desktop\\Faculdade\\Projects\\Facul Repositorios\\Repositorios_Universitarios\\Redes Neurais\\Projetao\\dataset_treino'\n",
    "\n",
    "# Obtendo todas as subpastas (personagens) e seus nomes\n",
    "subpastas = [(f.path, f.name) for f in os.scandir(diretorio_base_treino) if f.is_dir()]\n",
    "\n",
    "# Contagem de imagens em cada subpasta\n",
    "contagem_imagens_por_personagem = {}\n",
    "for subpasta, nome_pasta in subpastas:\n",
    "    arquivos = os.listdir(subpasta)\n",
    "    contagem_imagens_por_personagem[nome_pasta] = len([arquivo for arquivo in arquivos if arquivo.endswith('.jpg') or arquivo.endswith('.png')])\n",
    "\n",
    "# Ordenar as subpastas pelos números de imagens e pegar os 10 primeiros\n",
    "top_10_personagens = Counter(contagem_imagens_por_personagem).most_common(10)\n",
    "\n",
    "# Criar DataFrame pandas\n",
    "df = pd.DataFrame(top_10_personagens, columns=['Personagem', 'Quantidade de Imagens'])\n",
    "\n",
    "# Exibir DataFrame como tabela\n",
    "print(df)\n"
   ]
  }
 ],
 "metadata": {
  "kernelspec": {
   "display_name": "Python 3",
   "language": "python",
   "name": "python3"
  },
  "language_info": {
   "codemirror_mode": {
    "name": "ipython",
    "version": 3
   },
   "file_extension": ".py",
   "mimetype": "text/x-python",
   "name": "python",
   "nbconvert_exporter": "python",
   "pygments_lexer": "ipython3",
   "version": "3.11.4"
  }
 },
 "nbformat": 4,
 "nbformat_minor": 2
}
