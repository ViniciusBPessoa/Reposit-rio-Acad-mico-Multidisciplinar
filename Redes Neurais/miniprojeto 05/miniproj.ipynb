{
 "cells": [
  {
   "cell_type": "markdown",
   "metadata": {},
   "source": [
    "# Mini projeto 05"
   ]
  },
  {
   "cell_type": "markdown",
   "metadata": {},
   "source": [
    "Area de imports"
   ]
  },
  {
   "cell_type": "code",
   "execution_count": 2,
   "metadata": {},
   "outputs": [
    {
     "ename": "TypeError",
     "evalue": "unsupported operand type(s) for /: 'str' and 'float'",
     "output_type": "error",
     "traceback": [
      "\u001b[1;31m---------------------------------------------------------------------------\u001b[0m",
      "\u001b[1;31mTypeError\u001b[0m                                 Traceback (most recent call last)",
      "Cell \u001b[1;32mIn[2], line 36\u001b[0m\n\u001b[0;32m     34\u001b[0m \u001b[38;5;28;01mfor\u001b[39;00m i, (x, t) \u001b[38;5;129;01min\u001b[39;00m \u001b[38;5;28menumerate\u001b[39m(\u001b[38;5;28mzip\u001b[39m(X, y)):\n\u001b[0;32m     35\u001b[0m     w \u001b[38;5;241m=\u001b[39m som\u001b[38;5;241m.\u001b[39mwinner(x)\n\u001b[1;32m---> 36\u001b[0m     plt\u001b[38;5;241m.\u001b[39mtext(w[\u001b[38;5;241m0\u001b[39m]\u001b[38;5;241m+\u001b[39m\u001b[38;5;241m.5\u001b[39m, w[\u001b[38;5;241m1\u001b[39m]\u001b[38;5;241m+\u001b[39m\u001b[38;5;241m.5\u001b[39m, \u001b[38;5;28mstr\u001b[39m(t), color\u001b[38;5;241m=\u001b[39mplt\u001b[38;5;241m.\u001b[39mcm\u001b[38;5;241m.\u001b[39mDark2(\u001b[43mt\u001b[49m\u001b[43m \u001b[49m\u001b[38;5;241;43m/\u001b[39;49m\u001b[43m \u001b[49m\u001b[38;5;241;43m1.\u001b[39;49m), fontdict\u001b[38;5;241m=\u001b[39m{\u001b[38;5;124m'\u001b[39m\u001b[38;5;124mweight\u001b[39m\u001b[38;5;124m'\u001b[39m: \u001b[38;5;124m'\u001b[39m\u001b[38;5;124mbold\u001b[39m\u001b[38;5;124m'\u001b[39m, \u001b[38;5;124m'\u001b[39m\u001b[38;5;124msize\u001b[39m\u001b[38;5;124m'\u001b[39m: \u001b[38;5;241m9\u001b[39m})\n\u001b[0;32m     38\u001b[0m plt\u001b[38;5;241m.\u001b[39mxticks(np\u001b[38;5;241m.\u001b[39marange(\u001b[38;5;241m0\u001b[39m, som_grid_rows\u001b[38;5;241m+\u001b[39m\u001b[38;5;241m1\u001b[39m, \u001b[38;5;241m1\u001b[39m))\n\u001b[0;32m     39\u001b[0m plt\u001b[38;5;241m.\u001b[39myticks(np\u001b[38;5;241m.\u001b[39marange(\u001b[38;5;241m0\u001b[39m, som_grid_columns\u001b[38;5;241m+\u001b[39m\u001b[38;5;241m1\u001b[39m, \u001b[38;5;241m1\u001b[39m))\n",
      "\u001b[1;31mTypeError\u001b[0m: unsupported operand type(s) for /: 'str' and 'float'"
     ]
    },
    {
     "data": {
      "text/plain": [
       "<Figure size 1000x1000 with 0 Axes>"
      ]
     },
     "metadata": {},
     "output_type": "display_data"
    }
   ],
   "source": [
    "import pandas as pd\n",
    "from minisom import MiniSom\n",
    "import matplotlib.pyplot as plt\n",
    "import numpy as np\n",
    "\n",
    "# Carregar os dados\n",
    "url = \"https://archive.ics.uci.edu/ml/machine-learning-databases/breast-cancer-wisconsin/wdbc.data\"\n",
    "# Leitura do arquivo CSV\n",
    "data = pd.read_csv(url, header=None)\n",
    "\n",
    "# Separando os dados em features e labels\n",
    "X = data.iloc[:, 2:].values  # Features\n",
    "y = data.iloc[:, 1].values   # Labels\n",
    "\n",
    "# Normalização dos dados\n",
    "from sklearn.preprocessing import StandardScaler\n",
    "scaler = StandardScaler()\n",
    "X = scaler.fit_transform(X)\n",
    "\n",
    "# Definição dos parâmetros para a SOM\n",
    "som_grid_rows = 10\n",
    "som_grid_columns = 10\n",
    "iterations = 1000\n",
    "sigma = 1.0\n",
    "learning_rate = 0.5\n",
    "\n",
    "# Criando a SOM\n",
    "som = MiniSom(x=som_grid_rows, y=som_grid_columns, input_len=X.shape[1], sigma=sigma, learning_rate=learning_rate)\n",
    "som.random_weights_init(X)\n",
    "som.train_random(data=X, num_iteration=iterations)\n",
    "\n",
    "# Plotando o mapa de ativação dos neurônios\n",
    "plt.figure(figsize=(10, 10))\n",
    "for i, (x, t) in enumerate(zip(X, y)):\n",
    "    w = som.winner(x)\n",
    "    plt.text(w[0]+.5, w[1]+.5, str(t), color=plt.cm.Dark2(t / 1.), fontdict={'weight': 'bold', 'size': 9})\n",
    "\n",
    "plt.xticks(np.arange(0, som_grid_rows+1, 1))\n",
    "plt.yticks(np.arange(0, som_grid_columns+1, 1))\n",
    "plt.grid()\n",
    "plt.title('Mapa de Ativação dos Neurônios')\n",
    "plt.show()\n",
    "\n",
    "# Identificando outliers\n",
    "outliers = []\n",
    "for i, x in enumerate(X):\n",
    "    winner = som.winner(x)\n",
    "    if len(som.win_map[(winner[0], winner[1])]) < 3:  # Considerando como outlier regiões com menos de 3 amostras\n",
    "        outliers.append(i)\n",
    "\n",
    "# Exibindo índices dos outliers\n",
    "print(\"Índices dos outliers identificados:\", outliers)\n"
   ]
  }
 ],
 "metadata": {
  "kernelspec": {
   "display_name": "Python 3",
   "language": "python",
   "name": "python3"
  },
  "language_info": {
   "codemirror_mode": {
    "name": "ipython",
    "version": 3
   },
   "file_extension": ".py",
   "mimetype": "text/x-python",
   "name": "python",
   "nbconvert_exporter": "python",
   "pygments_lexer": "ipython3",
   "version": "3.11.6"
  }
 },
 "nbformat": 4,
 "nbformat_minor": 2
}
