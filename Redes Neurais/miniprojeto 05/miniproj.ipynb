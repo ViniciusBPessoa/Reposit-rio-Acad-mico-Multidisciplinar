{
 "cells": [
  {
   "cell_type": "markdown",
   "metadata": {},
   "source": [
    "# Mini projeto 05"
   ]
  },
  {
   "cell_type": "markdown",
   "metadata": {},
   "source": [
    "Area de imports"
   ]
  },
  {
   "cell_type": "code",
   "execution_count": 6,
   "metadata": {},
   "outputs": [],
   "source": [
    "import pandas as pd\n",
    "from minisom import MiniSom\n",
    "import matplotlib.pyplot as plt\n",
    "from sklearn.preprocessing import MinMaxScaler\n",
    "from urllib.request import urlopen\n"
   ]
  },
  {
   "cell_type": "code",
   "execution_count": 7,
   "metadata": {},
   "outputs": [],
   "source": [
    "# URL do conjunto de dados do câncer de mama\n",
    "url = \"https://archive.ics.uci.edu/ml/machine-learning-databases/breast-cancer-wisconsin/wdbc.data\"\n",
    "\n",
    "# Carregar os dados diretamente do URL\n",
    "data = pd.read_csv(urlopen(url), header=None)"
   ]
  },
  {
   "cell_type": "code",
   "execution_count": null,
   "metadata": {},
   "outputs": [],
   "source": [
    "# Separe os atributos (features) dos rótulos (labels)\n",
    "X = data.iloc[:, 2:].values  # Atributos\n",
    "y = data.iloc[:, 1].values   # Rótulos\n",
    "\n",
    "# Normalize os dados\n",
    "scaler = MinMaxScaler()\n",
    "X = scaler.fit_transform(X)\n"
   ]
  },
  {
   "cell_type": "code",
   "execution_count": null,
   "metadata": {},
   "outputs": [],
   "source": [
    "# Teste diferentes valores para sigma, learning_rate e num_iteration\n",
    "sigma_values = [3, 4, 5]\n",
    "learning_rates = [0.1, 0.5, 1]\n",
    "num_iterations = [100, 200, 300]\n",
    "\n",
    "# Itere sobre esses valores e treine o SOM\n",
    "for sigma in sigma_values:\n",
    "    for lr in learning_rates:\n",
    "        for num_iter in num_iterations:\n",
    "            som = MiniSom(x=10, y=10, input_len=X.shape[1], sigma=sigma, learning_rate=lr)\n",
    "            som.random_weights_init(X)\n",
    "            som.train_random(data=X, num_iteration=num_iter)\n",
    "\n",
    "            # Visualize o mapa de ativação dos neurônios\n",
    "            plt.figure(figsize=(8, 8))\n",
    "            for i, x in enumerate(X):\n",
    "                winning_neuron = som.winner(x)\n",
    "                plt.plot(winning_neuron[0] + 0.5,\n",
    "                         winning_neuron[1] + 0.5,\n",
    "                         'o',\n",
    "                         markerfacecolor='None',\n",
    "                         markeredgecolor='C0',\n",
    "                         markersize=10,\n",
    "                         markeredgewidth=2)\n",
    "            plt.title(f'Sigma: {sigma}, Learning Rate: {lr}, Num Iterations: {num_iter}')\n",
    "            plt.grid(True)\n",
    "            plt.show()\n"
   ]
  },
  {
   "cell_type": "code",
   "execution_count": null,
   "metadata": {},
   "outputs": [],
   "source": [
    "outliers = []\n",
    "for i, x in enumerate(X):\n",
    "    winning_neuron = som.winner(x)\n",
    "    weights = som.weights[winning_neuron]\n",
    "    distance = np.linalg.norm(x - weights)\n",
    "    if distance > limiar:\n",
    "        outliers.append(i)\n"
   ]
  }
 ],
 "metadata": {
  "kernelspec": {
   "display_name": "Python 3",
   "language": "python",
   "name": "python3"
  },
  "language_info": {
   "codemirror_mode": {
    "name": "ipython",
    "version": 3
   },
   "file_extension": ".py",
   "mimetype": "text/x-python",
   "name": "python",
   "nbconvert_exporter": "python",
   "pygments_lexer": "ipython3",
   "version": "3.11.6"
  }
 },
 "nbformat": 4,
 "nbformat_minor": 2
}
