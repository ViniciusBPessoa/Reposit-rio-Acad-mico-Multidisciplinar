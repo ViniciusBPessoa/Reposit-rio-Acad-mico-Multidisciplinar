{
 "cells": [
  {
   "cell_type": "code",
   "execution_count": 3,
   "metadata": {},
   "outputs": [],
   "source": [
    "import sys\n",
    "import os\n",
    "script_dir = os.getcwd() # coleata o diretorio do projeto atual\n",
    "sys.path.append(script_dir)"
   ]
  },
  {
   "cell_type": "code",
   "execution_count": 4,
   "metadata": {},
   "outputs": [],
   "source": [
    "import pandas as pd\n",
    "import cv2\n",
    "import numpy as np\n",
    "from sklearn.model_selection import train_test_split\n",
    "from sklearn.preprocessing import LabelEncoder\n",
    "from sklearn.preprocessing import OneHotEncoder\n",
    "from sklearn.metrics import accuracy_score\n",
    "import tensorflow as tf\n",
    "from tensorflow.keras import layers, models"
   ]
  },
  {
   "cell_type": "code",
   "execution_count": 32,
   "metadata": {},
   "outputs": [],
   "source": [
    "def load_data_base(local_base):\n",
    "\n",
    "    data = []\n",
    "    subdirectory_classes = [(directory.path, directory.name) for directory in os.scandir(local_base) if directory.is_dir()]\n",
    "    for x in subdirectory_classes:  \n",
    "        print(x)\n",
    "    print(len(subdirectory_classes))\n",
    "\n",
    "    for directory, label in subdirectory_classes:\n",
    "        class_images = []\n",
    "        files = os.listdir(directory)    \n",
    "\n",
    "        for file in files:\n",
    "            image_path = os.path.join(directory, file)\n",
    "            image = cv2.imread(image_path)\n",
    "\n",
    "            if image is not None:\n",
    "                class_images.append((image, label))\n",
    "            else:\n",
    "                print(f\"Erro ao carregar a imagem: {image_path}\")\n",
    "                \n",
    "        data.append(class_images)\n",
    "\n",
    "    return data"
   ]
  },
  {
   "cell_type": "code",
   "execution_count": 33,
   "metadata": {},
   "outputs": [],
   "source": [
    "def contar_imagens_por_pasta(list_class):\n",
    "    dados = []\n",
    "\n",
    "    for class_type in list_class:\n",
    "        classe = class_type[0][1]\n",
    "       \n",
    "        dados.append({'Classe': classe, 'Número de Imagens': len(class_type)})\n",
    "\n",
    "    # Cria um DataFrame com os dados\n",
    "    df = pd.DataFrame(dados)\n",
    "    # Ordena o DataFrame pela classe\n",
    "    df = df.sort_values(by='Classe').reset_index(drop=True)\n",
    "    \n",
    "    return df"
   ]
  },
  {
   "cell_type": "code",
   "execution_count": 34,
   "metadata": {},
   "outputs": [],
   "source": [
    "def split_train_test(data, test_size=0.2):\n",
    "    train_data = []\n",
    "    test_data = []\n",
    "\n",
    "    for class_images in data:\n",
    "        # Separar as imagens e suas etiquetas\n",
    "        images, labels = zip(*class_images)\n",
    "        # Dividir os dados em conjuntos de treinamento e teste\n",
    "        train_images, test_images, train_labels, test_labels = train_test_split(images, labels, test_size=test_size, random_state=42)\n",
    "        # Adicionar os conjuntos de treinamento e teste às respectivas listas\n",
    "        train_data.append(list(zip(train_images, train_labels)))\n",
    "        test_data.append(list(zip(test_images, test_labels)))\n",
    "\n",
    "    return train_data, test_data"
   ]
  },
  {
   "cell_type": "code",
   "execution_count": 35,
   "metadata": {},
   "outputs": [
    {
     "name": "stdout",
     "output_type": "stream",
     "text": [
      "('c:\\\\Users\\\\Pichau\\\\Desktop\\\\Faculdade\\\\Projects\\\\Facul Repositorios\\\\Repositorios_Universitarios\\\\Processamento_imagens\\\\aula04\\\\data\\\\airplane', 'airplane')\n",
      "('c:\\\\Users\\\\Pichau\\\\Desktop\\\\Faculdade\\\\Projects\\\\Facul Repositorios\\\\Repositorios_Universitarios\\\\Processamento_imagens\\\\aula04\\\\data\\\\car', 'car')\n",
      "('c:\\\\Users\\\\Pichau\\\\Desktop\\\\Faculdade\\\\Projects\\\\Facul Repositorios\\\\Repositorios_Universitarios\\\\Processamento_imagens\\\\aula04\\\\data\\\\cat', 'cat')\n",
      "('c:\\\\Users\\\\Pichau\\\\Desktop\\\\Faculdade\\\\Projects\\\\Facul Repositorios\\\\Repositorios_Universitarios\\\\Processamento_imagens\\\\aula04\\\\data\\\\dog', 'dog')\n",
      "('c:\\\\Users\\\\Pichau\\\\Desktop\\\\Faculdade\\\\Projects\\\\Facul Repositorios\\\\Repositorios_Universitarios\\\\Processamento_imagens\\\\aula04\\\\data\\\\flower', 'flower')\n",
      "('c:\\\\Users\\\\Pichau\\\\Desktop\\\\Faculdade\\\\Projects\\\\Facul Repositorios\\\\Repositorios_Universitarios\\\\Processamento_imagens\\\\aula04\\\\data\\\\fruit', 'fruit')\n",
      "('c:\\\\Users\\\\Pichau\\\\Desktop\\\\Faculdade\\\\Projects\\\\Facul Repositorios\\\\Repositorios_Universitarios\\\\Processamento_imagens\\\\aula04\\\\data\\\\motorbike', 'motorbike')\n",
      "('c:\\\\Users\\\\Pichau\\\\Desktop\\\\Faculdade\\\\Projects\\\\Facul Repositorios\\\\Repositorios_Universitarios\\\\Processamento_imagens\\\\aula04\\\\data\\\\person', 'person')\n",
      "8\n"
     ]
    }
   ],
   "source": [
    "dir_base_img = script_dir + r'\\data'\n",
    "data_base = load_data_base(dir_base_img)"
   ]
  },
  {
   "cell_type": "code",
   "execution_count": 36,
   "metadata": {},
   "outputs": [
    {
     "name": "stdout",
     "output_type": "stream",
     "text": [
      "727\n"
     ]
    }
   ],
   "source": [
    "print(len(data_base[0]))"
   ]
  },
  {
   "cell_type": "code",
   "execution_count": 37,
   "metadata": {},
   "outputs": [
    {
     "data": {
      "text/html": [
       "<div>\n",
       "<style scoped>\n",
       "    .dataframe tbody tr th:only-of-type {\n",
       "        vertical-align: middle;\n",
       "    }\n",
       "\n",
       "    .dataframe tbody tr th {\n",
       "        vertical-align: top;\n",
       "    }\n",
       "\n",
       "    .dataframe thead th {\n",
       "        text-align: right;\n",
       "    }\n",
       "</style>\n",
       "<table border=\"1\" class=\"dataframe\">\n",
       "  <thead>\n",
       "    <tr style=\"text-align: right;\">\n",
       "      <th></th>\n",
       "      <th>Classe</th>\n",
       "      <th>Número de Imagens</th>\n",
       "    </tr>\n",
       "  </thead>\n",
       "  <tbody>\n",
       "    <tr>\n",
       "      <th>0</th>\n",
       "      <td>airplane</td>\n",
       "      <td>581</td>\n",
       "    </tr>\n",
       "    <tr>\n",
       "      <th>1</th>\n",
       "      <td>car</td>\n",
       "      <td>774</td>\n",
       "    </tr>\n",
       "    <tr>\n",
       "      <th>2</th>\n",
       "      <td>cat</td>\n",
       "      <td>708</td>\n",
       "    </tr>\n",
       "    <tr>\n",
       "      <th>3</th>\n",
       "      <td>dog</td>\n",
       "      <td>561</td>\n",
       "    </tr>\n",
       "    <tr>\n",
       "      <th>4</th>\n",
       "      <td>flower</td>\n",
       "      <td>674</td>\n",
       "    </tr>\n",
       "    <tr>\n",
       "      <th>5</th>\n",
       "      <td>fruit</td>\n",
       "      <td>800</td>\n",
       "    </tr>\n",
       "    <tr>\n",
       "      <th>6</th>\n",
       "      <td>motorbike</td>\n",
       "      <td>630</td>\n",
       "    </tr>\n",
       "    <tr>\n",
       "      <th>7</th>\n",
       "      <td>person</td>\n",
       "      <td>788</td>\n",
       "    </tr>\n",
       "  </tbody>\n",
       "</table>\n",
       "</div>"
      ],
      "text/plain": [
       "      Classe  Número de Imagens\n",
       "0   airplane                581\n",
       "1        car                774\n",
       "2        cat                708\n",
       "3        dog                561\n",
       "4     flower                674\n",
       "5      fruit                800\n",
       "6  motorbike                630\n",
       "7     person                788"
      ]
     },
     "execution_count": 37,
     "metadata": {},
     "output_type": "execute_result"
    }
   ],
   "source": [
    "train_data, test_data = split_train_test(data_base, 0.2)\n",
    "contar_imagens_por_pasta(train_data)"
   ]
  },
  {
   "cell_type": "code",
   "execution_count": 38,
   "metadata": {},
   "outputs": [
    {
     "data": {
      "text/html": [
       "<div>\n",
       "<style scoped>\n",
       "    .dataframe tbody tr th:only-of-type {\n",
       "        vertical-align: middle;\n",
       "    }\n",
       "\n",
       "    .dataframe tbody tr th {\n",
       "        vertical-align: top;\n",
       "    }\n",
       "\n",
       "    .dataframe thead th {\n",
       "        text-align: right;\n",
       "    }\n",
       "</style>\n",
       "<table border=\"1\" class=\"dataframe\">\n",
       "  <thead>\n",
       "    <tr style=\"text-align: right;\">\n",
       "      <th></th>\n",
       "      <th>Classe</th>\n",
       "      <th>Número de Imagens</th>\n",
       "    </tr>\n",
       "  </thead>\n",
       "  <tbody>\n",
       "    <tr>\n",
       "      <th>0</th>\n",
       "      <td>airplane</td>\n",
       "      <td>146</td>\n",
       "    </tr>\n",
       "    <tr>\n",
       "      <th>1</th>\n",
       "      <td>car</td>\n",
       "      <td>194</td>\n",
       "    </tr>\n",
       "    <tr>\n",
       "      <th>2</th>\n",
       "      <td>cat</td>\n",
       "      <td>177</td>\n",
       "    </tr>\n",
       "    <tr>\n",
       "      <th>3</th>\n",
       "      <td>dog</td>\n",
       "      <td>141</td>\n",
       "    </tr>\n",
       "    <tr>\n",
       "      <th>4</th>\n",
       "      <td>flower</td>\n",
       "      <td>169</td>\n",
       "    </tr>\n",
       "    <tr>\n",
       "      <th>5</th>\n",
       "      <td>fruit</td>\n",
       "      <td>200</td>\n",
       "    </tr>\n",
       "    <tr>\n",
       "      <th>6</th>\n",
       "      <td>motorbike</td>\n",
       "      <td>158</td>\n",
       "    </tr>\n",
       "    <tr>\n",
       "      <th>7</th>\n",
       "      <td>person</td>\n",
       "      <td>198</td>\n",
       "    </tr>\n",
       "  </tbody>\n",
       "</table>\n",
       "</div>"
      ],
      "text/plain": [
       "      Classe  Número de Imagens\n",
       "0   airplane                146\n",
       "1        car                194\n",
       "2        cat                177\n",
       "3        dog                141\n",
       "4     flower                169\n",
       "5      fruit                200\n",
       "6  motorbike                158\n",
       "7     person                198"
      ]
     },
     "execution_count": 38,
     "metadata": {},
     "output_type": "execute_result"
    }
   ],
   "source": [
    "contar_imagens_por_pasta(test_data)"
   ]
  },
  {
   "cell_type": "code",
   "execution_count": 39,
   "metadata": {},
   "outputs": [],
   "source": [
    "def extract_histogram(image):\n",
    "    # Converter a imagem para escala de cinza\n",
    "    gray = cv2.cvtColor(image, cv2.COLOR_RGB2GRAY)\n",
    "    # Calcular o histograma da imagem\n",
    "    hist = cv2.calcHist([gray], [0], None, [256], [0,256])\n",
    "    # Normalizar o histograma\n",
    "    hist /= hist.sum()\n",
    "    return hist.flatten()\n",
    "\n",
    "def train_model(train_data, test_data):\n",
    "    # Separar características (histogramas) e etiquetas de treinamento\n",
    "    train_features, train_labels = zip(*train_data)\n",
    "    train_features = np.array(train_features)\n",
    "    \n",
    "    # Separar características (histogramas) e etiquetas de teste\n",
    "    test_features, test_labels = zip(*test_data)\n",
    "    test_features = np.array(test_features)\n",
    "\n",
    "    # Codificar as etiquetas em one-hot vectors\n",
    "    label_encoder = LabelEncoder()\n",
    "    integer_encoded = label_encoder.fit_transform(train_labels)\n",
    "    train_labels_encoded = tf.keras.utils.to_categorical(integer_encoded)\n",
    "\n",
    "    # Construir a arquitetura do modelo\n",
    "    model = models.Sequential([\n",
    "        layers.Dense(128, activation='relu', input_shape=(256,)),\n",
    "        layers.Dense(64, activation='relu'),\n",
    "        layers.Dense(len(set(train_labels)), activation='softmax')\n",
    "    ])\n",
    "\n",
    "    # Compilar o modelo\n",
    "    model.compile(optimizer='adam',\n",
    "                  loss='categorical_crossentropy',\n",
    "                  metrics=['accuracy'])\n",
    "\n",
    "    # Treinar o modelo\n",
    "    model.fit(train_features, train_labels_encoded, epochs=10, batch_size=32, verbose=1)\n",
    "\n",
    "    # Avaliar o modelo no conjunto de teste\n",
    "    test_loss, test_acc = model.evaluate(test_features, test_labels, verbose=2)\n",
    "    print('\\nTest accuracy:', test_acc)\n"
   ]
  },
  {
   "cell_type": "code",
   "execution_count": 5,
   "metadata": {},
   "outputs": [],
   "source": [
    "def create_model(input_dim, output_dim, dense_layers):\n",
    "    \n",
    "    model = models.Sequential()\n",
    "    model.add(layers.Dense(dense_layers[0], activation='relu', input_shape=(input_dim,)))\n",
    "\n",
    "    for neurons in dense_layers[1:]:\n",
    "        model.add(layers.Dense(neurons, activation='relu'))\n",
    "\n",
    "    model.add(layers.Dense(output_dim, activation='softmax'))\n",
    "\n",
    "    model.compile(optimizer='adam', loss='categorical_crossentropy', metrics=['accuracy'])\n",
    "\n",
    "    return model"
   ]
  },
  {
   "cell_type": "code",
   "execution_count": null,
   "metadata": {},
   "outputs": [],
   "source": [
    "def train_model(train_data, test_data):\n",
    "    \n",
    "    # Separar características (histogramas) e etiquetas de treinamento\n",
    "    train_features, train_labels = zip(*train_data)\n",
    "    train_features = np.array(train_features)\n",
    "    \n",
    "    # Separar características (histogramas) e etiquetas de teste\n",
    "    test_features, test_labels = zip(*test_data)\n",
    "    test_features = np.array(test_features)\n",
    "\n",
    "    # Codificar as etiquetas em one-hot vectors\n",
    "    label_encoder = LabelEncoder()\n",
    "    integer_encoded = label_encoder.fit_transform(train_labels)\n",
    "    train_labels_encoded = tf.keras.utils.to_categorical(integer_encoded)"
   ]
  },
  {
   "cell_type": "code",
   "execution_count": 6,
   "metadata": {},
   "outputs": [
    {
     "name": "stderr",
     "output_type": "stream",
     "text": [
      "c:\\Users\\Pichau\\AppData\\Local\\Programs\\Python\\Python311\\Lib\\site-packages\\keras\\src\\layers\\core\\dense.py:86: UserWarning: Do not pass an `input_shape`/`input_dim` argument to a layer. When using Sequential models, prefer using an `Input(shape)` object as the first layer in the model instead.\n",
      "  super().__init__(activity_regularizer=activity_regularizer, **kwargs)\n"
     ]
    }
   ],
   "source": [
    "# Exemplo de uso\n",
    "input_dim = 256\n",
    "output_dim = 10  # Suponha que temos 10 classes de saída\n",
    "dense_layers = [128, 10]  # Dois layers densos com 128 e 64 neurônios, respectivamente\n",
    "\n",
    "model = create_model(input_dim, output_dim, dense_layers)"
   ]
  },
  {
   "cell_type": "code",
   "execution_count": 7,
   "metadata": {},
   "outputs": [
    {
     "data": {
      "text/html": [
       "<pre style=\"white-space:pre;overflow-x:auto;line-height:normal;font-family:Menlo,'DejaVu Sans Mono',consolas,'Courier New',monospace\"><span style=\"font-weight: bold\">Model: \"sequential\"</span>\n",
       "</pre>\n"
      ],
      "text/plain": [
       "\u001b[1mModel: \"sequential\"\u001b[0m\n"
      ]
     },
     "metadata": {},
     "output_type": "display_data"
    },
    {
     "data": {
      "text/html": [
       "<pre style=\"white-space:pre;overflow-x:auto;line-height:normal;font-family:Menlo,'DejaVu Sans Mono',consolas,'Courier New',monospace\">┏━━━━━━━━━━━━━━━━━━━━━━━━━━━━━━━━━┳━━━━━━━━━━━━━━━━━━━━━━━━┳━━━━━━━━━━━━━━━┓\n",
       "┃<span style=\"font-weight: bold\"> Layer (type)                    </span>┃<span style=\"font-weight: bold\"> Output Shape           </span>┃<span style=\"font-weight: bold\">       Param # </span>┃\n",
       "┡━━━━━━━━━━━━━━━━━━━━━━━━━━━━━━━━━╇━━━━━━━━━━━━━━━━━━━━━━━━╇━━━━━━━━━━━━━━━┩\n",
       "│ dense (<span style=\"color: #0087ff; text-decoration-color: #0087ff\">Dense</span>)                   │ (<span style=\"color: #00d7ff; text-decoration-color: #00d7ff\">None</span>, <span style=\"color: #00af00; text-decoration-color: #00af00\">128</span>)            │        <span style=\"color: #00af00; text-decoration-color: #00af00\">32,896</span> │\n",
       "├─────────────────────────────────┼────────────────────────┼───────────────┤\n",
       "│ dense_1 (<span style=\"color: #0087ff; text-decoration-color: #0087ff\">Dense</span>)                 │ (<span style=\"color: #00d7ff; text-decoration-color: #00d7ff\">None</span>, <span style=\"color: #00af00; text-decoration-color: #00af00\">10</span>)             │         <span style=\"color: #00af00; text-decoration-color: #00af00\">1,290</span> │\n",
       "├─────────────────────────────────┼────────────────────────┼───────────────┤\n",
       "│ dense_2 (<span style=\"color: #0087ff; text-decoration-color: #0087ff\">Dense</span>)                 │ (<span style=\"color: #00d7ff; text-decoration-color: #00d7ff\">None</span>, <span style=\"color: #00af00; text-decoration-color: #00af00\">10</span>)             │           <span style=\"color: #00af00; text-decoration-color: #00af00\">110</span> │\n",
       "└─────────────────────────────────┴────────────────────────┴───────────────┘\n",
       "</pre>\n"
      ],
      "text/plain": [
       "┏━━━━━━━━━━━━━━━━━━━━━━━━━━━━━━━━━┳━━━━━━━━━━━━━━━━━━━━━━━━┳━━━━━━━━━━━━━━━┓\n",
       "┃\u001b[1m \u001b[0m\u001b[1mLayer (type)                   \u001b[0m\u001b[1m \u001b[0m┃\u001b[1m \u001b[0m\u001b[1mOutput Shape          \u001b[0m\u001b[1m \u001b[0m┃\u001b[1m \u001b[0m\u001b[1m      Param #\u001b[0m\u001b[1m \u001b[0m┃\n",
       "┡━━━━━━━━━━━━━━━━━━━━━━━━━━━━━━━━━╇━━━━━━━━━━━━━━━━━━━━━━━━╇━━━━━━━━━━━━━━━┩\n",
       "│ dense (\u001b[38;5;33mDense\u001b[0m)                   │ (\u001b[38;5;45mNone\u001b[0m, \u001b[38;5;34m128\u001b[0m)            │        \u001b[38;5;34m32,896\u001b[0m │\n",
       "├─────────────────────────────────┼────────────────────────┼───────────────┤\n",
       "│ dense_1 (\u001b[38;5;33mDense\u001b[0m)                 │ (\u001b[38;5;45mNone\u001b[0m, \u001b[38;5;34m10\u001b[0m)             │         \u001b[38;5;34m1,290\u001b[0m │\n",
       "├─────────────────────────────────┼────────────────────────┼───────────────┤\n",
       "│ dense_2 (\u001b[38;5;33mDense\u001b[0m)                 │ (\u001b[38;5;45mNone\u001b[0m, \u001b[38;5;34m10\u001b[0m)             │           \u001b[38;5;34m110\u001b[0m │\n",
       "└─────────────────────────────────┴────────────────────────┴───────────────┘\n"
      ]
     },
     "metadata": {},
     "output_type": "display_data"
    },
    {
     "data": {
      "text/html": [
       "<pre style=\"white-space:pre;overflow-x:auto;line-height:normal;font-family:Menlo,'DejaVu Sans Mono',consolas,'Courier New',monospace\"><span style=\"font-weight: bold\"> Total params: </span><span style=\"color: #00af00; text-decoration-color: #00af00\">34,296</span> (133.97 KB)\n",
       "</pre>\n"
      ],
      "text/plain": [
       "\u001b[1m Total params: \u001b[0m\u001b[38;5;34m34,296\u001b[0m (133.97 KB)\n"
      ]
     },
     "metadata": {},
     "output_type": "display_data"
    },
    {
     "data": {
      "text/html": [
       "<pre style=\"white-space:pre;overflow-x:auto;line-height:normal;font-family:Menlo,'DejaVu Sans Mono',consolas,'Courier New',monospace\"><span style=\"font-weight: bold\"> Trainable params: </span><span style=\"color: #00af00; text-decoration-color: #00af00\">34,296</span> (133.97 KB)\n",
       "</pre>\n"
      ],
      "text/plain": [
       "\u001b[1m Trainable params: \u001b[0m\u001b[38;5;34m34,296\u001b[0m (133.97 KB)\n"
      ]
     },
     "metadata": {},
     "output_type": "display_data"
    },
    {
     "data": {
      "text/html": [
       "<pre style=\"white-space:pre;overflow-x:auto;line-height:normal;font-family:Menlo,'DejaVu Sans Mono',consolas,'Courier New',monospace\"><span style=\"font-weight: bold\"> Non-trainable params: </span><span style=\"color: #00af00; text-decoration-color: #00af00\">0</span> (0.00 B)\n",
       "</pre>\n"
      ],
      "text/plain": [
       "\u001b[1m Non-trainable params: \u001b[0m\u001b[38;5;34m0\u001b[0m (0.00 B)\n"
      ]
     },
     "metadata": {},
     "output_type": "display_data"
    }
   ],
   "source": [
    "model.summary()"
   ]
  },
  {
   "cell_type": "code",
   "execution_count": 43,
   "metadata": {},
   "outputs": [
    {
     "ename": "ValueError",
     "evalue": "too many values to unpack (expected 2)",
     "output_type": "error",
     "traceback": [
      "\u001b[1;31m---------------------------------------------------------------------------\u001b[0m",
      "\u001b[1;31mValueError\u001b[0m                                Traceback (most recent call last)",
      "Cell \u001b[1;32mIn[43], line 1\u001b[0m\n\u001b[1;32m----> 1\u001b[0m \u001b[43mtrain_model\u001b[49m\u001b[43m(\u001b[49m\u001b[43mtrain_data\u001b[49m\u001b[43m,\u001b[49m\u001b[43m \u001b[49m\u001b[43mtest_data\u001b[49m\u001b[43m)\u001b[49m\n",
      "Cell \u001b[1;32mIn[39], line 12\u001b[0m, in \u001b[0;36mtrain_model\u001b[1;34m(train_data, test_data)\u001b[0m\n\u001b[0;32m     10\u001b[0m \u001b[38;5;28;01mdef\u001b[39;00m \u001b[38;5;21mtrain_model\u001b[39m(train_data, test_data):\n\u001b[0;32m     11\u001b[0m     \u001b[38;5;66;03m# Separar características (histogramas) e etiquetas de treinamento\u001b[39;00m\n\u001b[1;32m---> 12\u001b[0m     train_features, train_labels \u001b[38;5;241m=\u001b[39m \u001b[38;5;28mzip\u001b[39m(\u001b[38;5;241m*\u001b[39mtrain_data)\n\u001b[0;32m     13\u001b[0m     train_features \u001b[38;5;241m=\u001b[39m np\u001b[38;5;241m.\u001b[39marray(train_features)\n\u001b[0;32m     15\u001b[0m     \u001b[38;5;66;03m# Separar características (histogramas) e etiquetas de teste\u001b[39;00m\n",
      "\u001b[1;31mValueError\u001b[0m: too many values to unpack (expected 2)"
     ]
    }
   ],
   "source": [
    "train_model(train_data, test_data)"
   ]
  }
 ],
 "metadata": {
  "kernelspec": {
   "display_name": "Python 3",
   "language": "python",
   "name": "python3"
  },
  "language_info": {
   "codemirror_mode": {
    "name": "ipython",
    "version": 3
   },
   "file_extension": ".py",
   "mimetype": "text/x-python",
   "name": "python",
   "nbconvert_exporter": "python",
   "pygments_lexer": "ipython3",
   "version": "3.11.4"
  }
 },
 "nbformat": 4,
 "nbformat_minor": 2
}
