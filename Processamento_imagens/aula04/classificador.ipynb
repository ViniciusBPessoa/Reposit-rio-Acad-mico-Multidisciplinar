{
 "cells": [
  {
   "cell_type": "code",
   "execution_count": 39,
   "metadata": {},
   "outputs": [],
   "source": [
    "import sys\n",
    "import os\n",
    "script_dir = os.getcwd() # coleata o diretorio do projeto atual\n",
    "sys.path.append(script_dir)"
   ]
  },
  {
   "cell_type": "code",
   "execution_count": 40,
   "metadata": {},
   "outputs": [],
   "source": [
    "import pandas as pd\n",
    "import cv2"
   ]
  },
  {
   "cell_type": "code",
   "execution_count": 41,
   "metadata": {},
   "outputs": [],
   "source": [
    "def load_data_base(local_base):\n",
    "\n",
    "    data = []\n",
    "    subdirectory_classes = [(directory.path, directory.name) for directory in os.scandir(local_base) if directory.is_dir()]\n",
    "    for x in subdirectory_classes:  \n",
    "        print(x)\n",
    "    print(len(subdirectory_classes))\n",
    "\n",
    "    for directory, label in subdirectory_classes:\n",
    "        class_images = []\n",
    "        files = os.listdir(directory)    \n",
    "\n",
    "        for file in files:\n",
    "            image_path = os.path.join(directory, file)\n",
    "            image = cv2.imread(image_path)\n",
    "\n",
    "            if image is not None:\n",
    "                class_images.append((image, label))\n",
    "            else:\n",
    "                print(f\"Erro ao carregar a imagem: {image_path}\")\n",
    "                \n",
    "        data.append(class_images)\n",
    "\n",
    "    return data"
   ]
  },
  {
   "cell_type": "code",
   "execution_count": 42,
   "metadata": {},
   "outputs": [
    {
     "name": "stdout",
     "output_type": "stream",
     "text": [
      "('c:\\\\Faculdade\\\\Repositorios\\\\Repositorio_Academico_Multidisciplinar\\\\Processamento_imagens\\\\aula04\\\\data\\\\airplane', 'airplane')\n",
      "('c:\\\\Faculdade\\\\Repositorios\\\\Repositorio_Academico_Multidisciplinar\\\\Processamento_imagens\\\\aula04\\\\data\\\\car', 'car')\n",
      "('c:\\\\Faculdade\\\\Repositorios\\\\Repositorio_Academico_Multidisciplinar\\\\Processamento_imagens\\\\aula04\\\\data\\\\cat', 'cat')\n",
      "('c:\\\\Faculdade\\\\Repositorios\\\\Repositorio_Academico_Multidisciplinar\\\\Processamento_imagens\\\\aula04\\\\data\\\\dog', 'dog')\n",
      "('c:\\\\Faculdade\\\\Repositorios\\\\Repositorio_Academico_Multidisciplinar\\\\Processamento_imagens\\\\aula04\\\\data\\\\flower', 'flower')\n",
      "('c:\\\\Faculdade\\\\Repositorios\\\\Repositorio_Academico_Multidisciplinar\\\\Processamento_imagens\\\\aula04\\\\data\\\\fruit', 'fruit')\n",
      "('c:\\\\Faculdade\\\\Repositorios\\\\Repositorio_Academico_Multidisciplinar\\\\Processamento_imagens\\\\aula04\\\\data\\\\motorbike', 'motorbike')\n",
      "('c:\\\\Faculdade\\\\Repositorios\\\\Repositorio_Academico_Multidisciplinar\\\\Processamento_imagens\\\\aula04\\\\data\\\\person', 'person')\n",
      "8\n"
     ]
    }
   ],
   "source": [
    "dir_base_img = script_dir + r'\\data'\n",
    "data_base = load_data_base(dir_base_img)"
   ]
  },
  {
   "cell_type": "code",
   "execution_count": 46,
   "metadata": {},
   "outputs": [
    {
     "name": "stdout",
     "output_type": "stream",
     "text": [
      "727\n"
     ]
    }
   ],
   "source": [
    "print(len(data_base[0]))"
   ]
  },
  {
   "cell_type": "code",
   "execution_count": 47,
   "metadata": {},
   "outputs": [],
   "source": [
    "def contar_imagens_por_pasta(list_class):\n",
    "    dados = []\n",
    "\n",
    "    for class_type in list_class:\n",
    "        classe = class_type[0][1]\n",
    "       \n",
    "        dados.append({'Classe': classe, 'Número de Imagens': len(class_type)})\n",
    "\n",
    "    # Cria um DataFrame com os dados\n",
    "    df = pd.DataFrame(dados)\n",
    "    # Ordena o DataFrame pela classe\n",
    "    df = df.sort_values(by='Classe').reset_index(drop=True)\n",
    "    \n",
    "    return df"
   ]
  },
  {
   "cell_type": "code",
   "execution_count": 48,
   "metadata": {},
   "outputs": [
    {
     "data": {
      "text/html": [
       "<div>\n",
       "<style scoped>\n",
       "    .dataframe tbody tr th:only-of-type {\n",
       "        vertical-align: middle;\n",
       "    }\n",
       "\n",
       "    .dataframe tbody tr th {\n",
       "        vertical-align: top;\n",
       "    }\n",
       "\n",
       "    .dataframe thead th {\n",
       "        text-align: right;\n",
       "    }\n",
       "</style>\n",
       "<table border=\"1\" class=\"dataframe\">\n",
       "  <thead>\n",
       "    <tr style=\"text-align: right;\">\n",
       "      <th></th>\n",
       "      <th>Classe</th>\n",
       "      <th>Número de Imagens</th>\n",
       "    </tr>\n",
       "  </thead>\n",
       "  <tbody>\n",
       "    <tr>\n",
       "      <th>0</th>\n",
       "      <td>airplane</td>\n",
       "      <td>727</td>\n",
       "    </tr>\n",
       "    <tr>\n",
       "      <th>1</th>\n",
       "      <td>car</td>\n",
       "      <td>968</td>\n",
       "    </tr>\n",
       "    <tr>\n",
       "      <th>2</th>\n",
       "      <td>cat</td>\n",
       "      <td>885</td>\n",
       "    </tr>\n",
       "    <tr>\n",
       "      <th>3</th>\n",
       "      <td>dog</td>\n",
       "      <td>702</td>\n",
       "    </tr>\n",
       "    <tr>\n",
       "      <th>4</th>\n",
       "      <td>flower</td>\n",
       "      <td>843</td>\n",
       "    </tr>\n",
       "    <tr>\n",
       "      <th>5</th>\n",
       "      <td>fruit</td>\n",
       "      <td>1000</td>\n",
       "    </tr>\n",
       "    <tr>\n",
       "      <th>6</th>\n",
       "      <td>motorbike</td>\n",
       "      <td>788</td>\n",
       "    </tr>\n",
       "    <tr>\n",
       "      <th>7</th>\n",
       "      <td>person</td>\n",
       "      <td>986</td>\n",
       "    </tr>\n",
       "  </tbody>\n",
       "</table>\n",
       "</div>"
      ],
      "text/plain": [
       "      Classe  Número de Imagens\n",
       "0   airplane                727\n",
       "1        car                968\n",
       "2        cat                885\n",
       "3        dog                702\n",
       "4     flower                843\n",
       "5      fruit               1000\n",
       "6  motorbike                788\n",
       "7     person                986"
      ]
     },
     "execution_count": 48,
     "metadata": {},
     "output_type": "execute_result"
    }
   ],
   "source": [
    "contar_imagens_por_pasta(data_base)"
   ]
  },
  {
   "cell_type": "code",
   "execution_count": null,
   "metadata": {},
   "outputs": [],
   "source": []
  }
 ],
 "metadata": {
  "kernelspec": {
   "display_name": "Python 3",
   "language": "python",
   "name": "python3"
  },
  "language_info": {
   "codemirror_mode": {
    "name": "ipython",
    "version": 3
   },
   "file_extension": ".py",
   "mimetype": "text/x-python",
   "name": "python",
   "nbconvert_exporter": "python",
   "pygments_lexer": "ipython3",
   "version": "3.11.6"
  }
 },
 "nbformat": 4,
 "nbformat_minor": 2
}
