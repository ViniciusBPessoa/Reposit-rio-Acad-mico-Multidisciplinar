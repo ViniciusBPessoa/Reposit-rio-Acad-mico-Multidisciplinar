{
 "cells": [
  {
   "cell_type": "code",
   "execution_count": 11,
   "metadata": {},
   "outputs": [],
   "source": [
    "import sys\n",
    "import os\n",
    "script_dir = os.getcwd() # coleata o diretorio do projeto atual\n",
    "sys.path.append(script_dir)"
   ]
  },
  {
   "cell_type": "code",
   "execution_count": 12,
   "metadata": {},
   "outputs": [
    {
     "data": {
      "text/plain": [
       "[('c:\\\\Users\\\\vinic\\\\OneDrive\\\\Área de Trabalho\\\\Faculdade\\\\Repositorios\\\\Repositorio_Academico_Multidisciplinar\\\\Processamento_imagens\\\\aula04\\\\data\\\\airplane',\n",
       "  'airplane'),\n",
       " ('c:\\\\Users\\\\vinic\\\\OneDrive\\\\Área de Trabalho\\\\Faculdade\\\\Repositorios\\\\Repositorio_Academico_Multidisciplinar\\\\Processamento_imagens\\\\aula04\\\\data\\\\car',\n",
       "  'car'),\n",
       " ('c:\\\\Users\\\\vinic\\\\OneDrive\\\\Área de Trabalho\\\\Faculdade\\\\Repositorios\\\\Repositorio_Academico_Multidisciplinar\\\\Processamento_imagens\\\\aula04\\\\data\\\\cat',\n",
       "  'cat'),\n",
       " ('c:\\\\Users\\\\vinic\\\\OneDrive\\\\Área de Trabalho\\\\Faculdade\\\\Repositorios\\\\Repositorio_Academico_Multidisciplinar\\\\Processamento_imagens\\\\aula04\\\\data\\\\dog',\n",
       "  'dog'),\n",
       " ('c:\\\\Users\\\\vinic\\\\OneDrive\\\\Área de Trabalho\\\\Faculdade\\\\Repositorios\\\\Repositorio_Academico_Multidisciplinar\\\\Processamento_imagens\\\\aula04\\\\data\\\\flower',\n",
       "  'flower'),\n",
       " ('c:\\\\Users\\\\vinic\\\\OneDrive\\\\Área de Trabalho\\\\Faculdade\\\\Repositorios\\\\Repositorio_Academico_Multidisciplinar\\\\Processamento_imagens\\\\aula04\\\\data\\\\fruit',\n",
       "  'fruit'),\n",
       " ('c:\\\\Users\\\\vinic\\\\OneDrive\\\\Área de Trabalho\\\\Faculdade\\\\Repositorios\\\\Repositorio_Academico_Multidisciplinar\\\\Processamento_imagens\\\\aula04\\\\data\\\\motorbike',\n",
       "  'motorbike'),\n",
       " ('c:\\\\Users\\\\vinic\\\\OneDrive\\\\Área de Trabalho\\\\Faculdade\\\\Repositorios\\\\Repositorio_Academico_Multidisciplinar\\\\Processamento_imagens\\\\aula04\\\\data\\\\person',\n",
       "  'person')]"
      ]
     },
     "execution_count": 12,
     "metadata": {},
     "output_type": "execute_result"
    }
   ],
   "source": [
    "dir_base_img = script_dir + r'\\data'\n",
    "\n",
    "# Obtendo todas as subpastas (possibilidades) e seus nomes do diretório de treinamento\n",
    "subdrectory_classes = [(directory.path, directory.name) for directory in os.scandir(dir_base_img) if directory.is_dir()]\n",
    "subdrectory_classes\n"
   ]
  },
  {
   "cell_type": "code",
   "execution_count": 13,
   "metadata": {},
   "outputs": [],
   "source": [
    "def counter_images(dir):\n",
    "    for diretorio, classe in dir:\n",
    "        # Lista todos os arquivos no diretório atual\n",
    "        arquivos = os.listdir(diretorio)\n",
    "        # Filtra os arquivos que têm extensão de imagem (você pode ajustar isso conforme necessário)\n",
    "        imagens = [arquivo for arquivo in arquivos if arquivo.lower().endswith(('.png', '.jpg', '.jpeg', '.gif', '.bmp'))]\n",
    "        # Imprime o nome da classe e o número de imagens\n",
    "        print(f\"A classe '{classe}' contém {len(imagens)} imagens.\")"
   ]
  },
  {
   "cell_type": "code",
   "execution_count": 15,
   "metadata": {},
   "outputs": [
    {
     "name": "stdout",
     "output_type": "stream",
     "text": [
      "A classe 'airplane' contém 727 imagens.\n",
      "A classe 'car' contém 968 imagens.\n",
      "A classe 'cat' contém 885 imagens.\n",
      "A classe 'dog' contém 702 imagens.\n",
      "A classe 'flower' contém 843 imagens.\n",
      "A classe 'fruit' contém 1000 imagens.\n",
      "A classe 'motorbike' contém 788 imagens.\n",
      "A classe 'person' contém 986 imagens.\n"
     ]
    }
   ],
   "source": [
    "counter_images(subdrectory_classes)"
   ]
  }
 ],
 "metadata": {
  "kernelspec": {
   "display_name": "Python 3",
   "language": "python",
   "name": "python3"
  },
  "language_info": {
   "codemirror_mode": {
    "name": "ipython",
    "version": 3
   },
   "file_extension": ".py",
   "mimetype": "text/x-python",
   "name": "python",
   "nbconvert_exporter": "python",
   "pygments_lexer": "ipython3",
   "version": "3.11.6"
  }
 },
 "nbformat": 4,
 "nbformat_minor": 2
}
