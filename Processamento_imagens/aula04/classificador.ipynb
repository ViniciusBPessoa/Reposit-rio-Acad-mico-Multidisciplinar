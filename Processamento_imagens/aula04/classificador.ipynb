{
 "cells": [
  {
   "cell_type": "code",
   "execution_count": 35,
   "metadata": {},
   "outputs": [],
   "source": [
    "import sys\n",
    "import os\n",
    "script_dir = os.getcwd() # coleata o diretorio do projeto atual\n",
    "sys.path.append(script_dir)"
   ]
  },
  {
   "cell_type": "code",
   "execution_count": 36,
   "metadata": {},
   "outputs": [],
   "source": [
    "import pandas as pd"
   ]
  },
  {
   "cell_type": "code",
   "execution_count": 37,
   "metadata": {},
   "outputs": [],
   "source": [
    "def load_data_base(local_base):\n",
    "    data = []\n",
    "    subdrectory_classes = [(directory.path, directory.name) for directory in os.scandir(local_base) if directory.is_dir()]\n",
    "\n",
    "\n",
    "\n",
    "    return subdrectory_classes\n",
    "        \n",
    "    "
   ]
  },
  {
   "cell_type": "code",
   "execution_count": 38,
   "metadata": {},
   "outputs": [
    {
     "data": {
      "text/plain": [
       "[('c:\\\\Users\\\\vinic\\\\OneDrive\\\\Área de Trabalho\\\\Faculdade\\\\Repositorios\\\\Repositorio_Academico_Multidisciplinar\\\\Processamento_imagens\\\\aula04\\\\data\\\\airplane',\n",
       "  'airplane'),\n",
       " ('c:\\\\Users\\\\vinic\\\\OneDrive\\\\Área de Trabalho\\\\Faculdade\\\\Repositorios\\\\Repositorio_Academico_Multidisciplinar\\\\Processamento_imagens\\\\aula04\\\\data\\\\car',\n",
       "  'car'),\n",
       " ('c:\\\\Users\\\\vinic\\\\OneDrive\\\\Área de Trabalho\\\\Faculdade\\\\Repositorios\\\\Repositorio_Academico_Multidisciplinar\\\\Processamento_imagens\\\\aula04\\\\data\\\\cat',\n",
       "  'cat'),\n",
       " ('c:\\\\Users\\\\vinic\\\\OneDrive\\\\Área de Trabalho\\\\Faculdade\\\\Repositorios\\\\Repositorio_Academico_Multidisciplinar\\\\Processamento_imagens\\\\aula04\\\\data\\\\dog',\n",
       "  'dog'),\n",
       " ('c:\\\\Users\\\\vinic\\\\OneDrive\\\\Área de Trabalho\\\\Faculdade\\\\Repositorios\\\\Repositorio_Academico_Multidisciplinar\\\\Processamento_imagens\\\\aula04\\\\data\\\\flower',\n",
       "  'flower'),\n",
       " ('c:\\\\Users\\\\vinic\\\\OneDrive\\\\Área de Trabalho\\\\Faculdade\\\\Repositorios\\\\Repositorio_Academico_Multidisciplinar\\\\Processamento_imagens\\\\aula04\\\\data\\\\fruit',\n",
       "  'fruit'),\n",
       " ('c:\\\\Users\\\\vinic\\\\OneDrive\\\\Área de Trabalho\\\\Faculdade\\\\Repositorios\\\\Repositorio_Academico_Multidisciplinar\\\\Processamento_imagens\\\\aula04\\\\data\\\\motorbike',\n",
       "  'motorbike'),\n",
       " ('c:\\\\Users\\\\vinic\\\\OneDrive\\\\Área de Trabalho\\\\Faculdade\\\\Repositorios\\\\Repositorio_Academico_Multidisciplinar\\\\Processamento_imagens\\\\aula04\\\\data\\\\person',\n",
       "  'person')]"
      ]
     },
     "execution_count": 38,
     "metadata": {},
     "output_type": "execute_result"
    }
   ],
   "source": [
    "dir_base_img = script_dir + r'\\data'\n",
    "\n",
    "load_data_base(dir_base_img)\n"
   ]
  },
  {
   "cell_type": "code",
   "execution_count": 39,
   "metadata": {},
   "outputs": [],
   "source": [
    "def contar_imagens_por_pasta(lista_pastas):\n",
    "    dados = []\n",
    "    for diretorio, classe in lista_pastas:\n",
    "        # Lista todos os arquivos no diretório atual\n",
    "        arquivos = os.listdir(diretorio)\n",
    "        # Filtra os arquivos que têm extensão de imagem (você pode ajustar isso conforme necessário)\n",
    "        imagens = [arquivo for arquivo in arquivos if arquivo.lower().endswith(('.png', '.jpg', '.jpeg', '.gif', '.bmp'))]\n",
    "        # Adiciona os dados à lista\n",
    "        dados.append({'Classe': classe, 'Número de Imagens': len(imagens)})\n",
    "\n",
    "    # Cria um DataFrame com os dados\n",
    "    df = pd.DataFrame(dados)\n",
    "    # Ordena o DataFrame pela classe\n",
    "    df = df.sort_values(by='Classe').reset_index(drop=True)\n",
    "    \n",
    "    return df"
   ]
  },
  {
   "cell_type": "code",
   "execution_count": null,
   "metadata": {},
   "outputs": [],
   "source": []
  },
  {
   "cell_type": "code",
   "execution_count": 40,
   "metadata": {},
   "outputs": [
    {
     "data": {
      "text/html": [
       "<div>\n",
       "<style scoped>\n",
       "    .dataframe tbody tr th:only-of-type {\n",
       "        vertical-align: middle;\n",
       "    }\n",
       "\n",
       "    .dataframe tbody tr th {\n",
       "        vertical-align: top;\n",
       "    }\n",
       "\n",
       "    .dataframe thead th {\n",
       "        text-align: right;\n",
       "    }\n",
       "</style>\n",
       "<table border=\"1\" class=\"dataframe\">\n",
       "  <thead>\n",
       "    <tr style=\"text-align: right;\">\n",
       "      <th></th>\n",
       "      <th>Classe</th>\n",
       "      <th>Número de Imagens</th>\n",
       "    </tr>\n",
       "  </thead>\n",
       "  <tbody>\n",
       "    <tr>\n",
       "      <th>0</th>\n",
       "      <td>airplane</td>\n",
       "      <td>727</td>\n",
       "    </tr>\n",
       "    <tr>\n",
       "      <th>1</th>\n",
       "      <td>car</td>\n",
       "      <td>968</td>\n",
       "    </tr>\n",
       "    <tr>\n",
       "      <th>2</th>\n",
       "      <td>cat</td>\n",
       "      <td>885</td>\n",
       "    </tr>\n",
       "    <tr>\n",
       "      <th>3</th>\n",
       "      <td>dog</td>\n",
       "      <td>702</td>\n",
       "    </tr>\n",
       "    <tr>\n",
       "      <th>4</th>\n",
       "      <td>flower</td>\n",
       "      <td>843</td>\n",
       "    </tr>\n",
       "    <tr>\n",
       "      <th>5</th>\n",
       "      <td>fruit</td>\n",
       "      <td>1000</td>\n",
       "    </tr>\n",
       "    <tr>\n",
       "      <th>6</th>\n",
       "      <td>motorbike</td>\n",
       "      <td>788</td>\n",
       "    </tr>\n",
       "    <tr>\n",
       "      <th>7</th>\n",
       "      <td>person</td>\n",
       "      <td>986</td>\n",
       "    </tr>\n",
       "  </tbody>\n",
       "</table>\n",
       "</div>"
      ],
      "text/plain": [
       "      Classe  Número de Imagens\n",
       "0   airplane                727\n",
       "1        car                968\n",
       "2        cat                885\n",
       "3        dog                702\n",
       "4     flower                843\n",
       "5      fruit               1000\n",
       "6  motorbike                788\n",
       "7     person                986"
      ]
     },
     "execution_count": 40,
     "metadata": {},
     "output_type": "execute_result"
    }
   ],
   "source": [
    "contar_imagens_por_pasta(subdrectory_classes)"
   ]
  },
  {
   "cell_type": "code",
   "execution_count": null,
   "metadata": {},
   "outputs": [],
   "source": []
  }
 ],
 "metadata": {
  "kernelspec": {
   "display_name": "Python 3",
   "language": "python",
   "name": "python3"
  },
  "language_info": {
   "codemirror_mode": {
    "name": "ipython",
    "version": 3
   },
   "file_extension": ".py",
   "mimetype": "text/x-python",
   "name": "python",
   "nbconvert_exporter": "python",
   "pygments_lexer": "ipython3",
   "version": "3.11.6"
  }
 },
 "nbformat": 4,
 "nbformat_minor": 2
}
