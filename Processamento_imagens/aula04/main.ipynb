{
 "cells": [
  {
   "cell_type": "code",
   "execution_count": 2,
   "metadata": {},
   "outputs": [],
   "source": [
    "from random import randint\n",
    "import time"
   ]
  },
  {
   "cell_type": "code",
   "execution_count": 3,
   "metadata": {},
   "outputs": [],
   "source": [
    "valor = 1_000_000"
   ]
  },
  {
   "cell_type": "code",
   "execution_count": 6,
   "metadata": {},
   "outputs": [
    {
     "name": "stdout",
     "output_type": "stream",
     "text": [
      "achou o valor 1000000000 em 194.07968 segundos e em 342110825 tentativas\n"
     ]
    }
   ],
   "source": [
    "inicio = time.time()\n",
    "tentativas = 0\n",
    "while True:\n",
    "    test = randint(1, valor)\n",
    "    tentativas += 1 \n",
    "    if valor == test:\n",
    "        fim = time.time()\n",
    "        break\n",
    "\n",
    "print(f\"achou o valor {valor} em {((fim - inicio)/60):0.5f} segundos e em {tentativas} tentativas\")"
   ]
  }
 ],
 "metadata": {
  "kernelspec": {
   "display_name": "Python 3",
   "language": "python",
   "name": "python3"
  },
  "language_info": {
   "codemirror_mode": {
    "name": "ipython",
    "version": 3
   },
   "file_extension": ".py",
   "mimetype": "text/x-python",
   "name": "python",
   "nbconvert_exporter": "python",
   "pygments_lexer": "ipython3",
   "version": "3.11.4"
  }
 },
 "nbformat": 4,
 "nbformat_minor": 2
}
