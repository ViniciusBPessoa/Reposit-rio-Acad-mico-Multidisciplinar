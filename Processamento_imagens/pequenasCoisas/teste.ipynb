{
 "cells": [
  {
   "cell_type": "code",
   "execution_count": 3,
   "metadata": {},
   "outputs": [],
   "source": [
    "import numpy as np\n",
    "import cv2\n",
    "\n",
    "# Matriz fornecida\n",
    "matrix = np.array([[13, 3, 3],\n",
    "                   [13, 3, 3],\n",
    "                   [4, 15, 15]], dtype=np.uint8)\n",
    "\n",
    "# Repetir a matriz para formar uma imagem\n",
    "image = np.tile(matrix, (100, 100))\n",
    "\n",
    "# Calcular o negativo da imagem\n",
    "negative_image = 255 - image\n",
    "\n",
    "# Mostrar a imagem original e o negativo\n",
    "cv2.imshow('Original Image', image)\n",
    "cv2.imshow('Negative Image', negative_image)\n",
    "cv2.waitKey(0)\n",
    "cv2.destroyAllWindows()\n"
   ]
  }
 ],
 "metadata": {
  "kernelspec": {
   "display_name": "Python 3",
   "language": "python",
   "name": "python3"
  },
  "language_info": {
   "codemirror_mode": {
    "name": "ipython",
    "version": 3
   },
   "file_extension": ".py",
   "mimetype": "text/x-python",
   "name": "python",
   "nbconvert_exporter": "python",
   "pygments_lexer": "ipython3",
   "version": "3.11.4"
  }
 },
 "nbformat": 4,
 "nbformat_minor": 2
}
