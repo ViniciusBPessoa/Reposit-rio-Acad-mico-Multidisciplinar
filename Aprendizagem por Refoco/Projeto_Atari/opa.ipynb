{
 "cells": [
  {
   "cell_type": "code",
   "execution_count": 2,
   "metadata": {},
   "outputs": [
    {
     "name": "stdout",
     "output_type": "stream",
     "text": [
      "WARNING:tensorflow:From c:\\Users\\Pichau\\anaconda3\\envs\\rl23\\Lib\\site-packages\\keras\\src\\losses.py:2976: The name tf.losses.sparse_softmax_cross_entropy is deprecated. Please use tf.compat.v1.losses.sparse_softmax_cross_entropy instead.\n",
      "\n"
     ]
    },
    {
     "data": {
      "text/plain": [
       "<tensorboard.backend.event_processing.event_accumulator.EventAccumulator at 0x27ab57a6b10>"
      ]
     },
     "execution_count": 2,
     "metadata": {},
     "output_type": "execute_result"
    }
   ],
   "source": [
    "import tensorflow as tf\n",
    "from tensorboard.backend.event_processing.event_accumulator import EventAccumulator\n",
    "\n",
    "# Caminhos dos arquivos de eventos\n",
    "file_path_old = r'C:\\Users\\Pichau\\Desktop\\Faculdade\\Projects\\Facul Repositorios\\Repositorios_Universitarios\\Aprendizagem por Refoco\\Projeto_Atari\\runs\\Feb17_03-20-49_Vinícius-ALE\\SpaceInvaders-v5\\events.out.tfevents.1708150849.Vinícius.15048.10'\n",
    "file_path_new = r'C:\\Users\\Pichau\\Desktop\\Faculdade\\Projects\\Facul Repositorios\\Repositorios_Universitarios\\Aprendizagem por Refoco\\Projeto_Atari\\log_dir\\PPO_2\\events.out.tfevents.1708251979.Vinícius.16172.5'\n",
    "\n",
    "# Carregar os eventos do arquivo antigo\n",
    "event_accumulator_old = EventAccumulator(file_path_old)\n",
    "event_accumulator_old.Reload()\n",
    "\n",
    "# Carregar os eventos do arquivo novo\n",
    "event_accumulator_new = EventAccumulator(file_path_new)\n",
    "event_accumulator_new.Reload()\n"
   ]
  },
  {
   "cell_type": "code",
   "execution_count": 7,
   "metadata": {},
   "outputs": [
    {
     "ename": "KeyError",
     "evalue": "'Key ep_rew_mean was not found in Reservoir'",
     "output_type": "error",
     "traceback": [
      "\u001b[1;31m---------------------------------------------------------------------------\u001b[0m",
      "\u001b[1;31mKeyError\u001b[0m                                  Traceback (most recent call last)",
      "Cell \u001b[1;32mIn[7], line 8\u001b[0m\n\u001b[0;32m      5\u001b[0m tag \u001b[38;5;241m=\u001b[39m \u001b[38;5;124m\"\u001b[39m\u001b[38;5;124mep_rew_mean\u001b[39m\u001b[38;5;124m\"\u001b[39m\n\u001b[0;32m      7\u001b[0m \u001b[38;5;66;03m# Extrair os valores de scalars do arquivo antigo\u001b[39;00m\n\u001b[1;32m----> 8\u001b[0m scalars_old \u001b[38;5;241m=\u001b[39m \u001b[43mevent_accumulator_old\u001b[49m\u001b[38;5;241;43m.\u001b[39;49m\u001b[43mScalars\u001b[49m\u001b[43m(\u001b[49m\u001b[43mtag\u001b[49m\u001b[43m)\u001b[49m\n\u001b[0;32m      9\u001b[0m steps_old \u001b[38;5;241m=\u001b[39m [scalar\u001b[38;5;241m.\u001b[39mstep \u001b[38;5;28;01mfor\u001b[39;00m scalar \u001b[38;5;129;01min\u001b[39;00m scalars_old]\n\u001b[0;32m     10\u001b[0m values_old \u001b[38;5;241m=\u001b[39m [scalar\u001b[38;5;241m.\u001b[39mvalue \u001b[38;5;28;01mfor\u001b[39;00m scalar \u001b[38;5;129;01min\u001b[39;00m scalars_old]\n",
      "File \u001b[1;32mc:\\Users\\Pichau\\anaconda3\\envs\\rl23\\Lib\\site-packages\\tensorboard\\backend\\event_processing\\event_accumulator.py:603\u001b[0m, in \u001b[0;36mEventAccumulator.Scalars\u001b[1;34m(self, tag)\u001b[0m\n\u001b[0;32m    591\u001b[0m \u001b[38;5;28;01mdef\u001b[39;00m \u001b[38;5;21mScalars\u001b[39m(\u001b[38;5;28mself\u001b[39m, tag):\n\u001b[0;32m    592\u001b[0m \u001b[38;5;250m    \u001b[39m\u001b[38;5;124;03m\"\"\"Given a summary tag, return all associated `ScalarEvent`s.\u001b[39;00m\n\u001b[0;32m    593\u001b[0m \n\u001b[0;32m    594\u001b[0m \u001b[38;5;124;03m    Args:\u001b[39;00m\n\u001b[1;32m   (...)\u001b[0m\n\u001b[0;32m    601\u001b[0m \u001b[38;5;124;03m      An array of `ScalarEvent`s.\u001b[39;00m\n\u001b[0;32m    602\u001b[0m \u001b[38;5;124;03m    \"\"\"\u001b[39;00m\n\u001b[1;32m--> 603\u001b[0m     \u001b[38;5;28;01mreturn\u001b[39;00m \u001b[38;5;28;43mself\u001b[39;49m\u001b[38;5;241;43m.\u001b[39;49m\u001b[43mscalars\u001b[49m\u001b[38;5;241;43m.\u001b[39;49m\u001b[43mItems\u001b[49m\u001b[43m(\u001b[49m\u001b[43mtag\u001b[49m\u001b[43m)\u001b[49m\n",
      "File \u001b[1;32mc:\\Users\\Pichau\\anaconda3\\envs\\rl23\\Lib\\site-packages\\tensorboard\\backend\\event_processing\\reservoir.py:110\u001b[0m, in \u001b[0;36mReservoir.Items\u001b[1;34m(self, key)\u001b[0m\n\u001b[0;32m    108\u001b[0m \u001b[38;5;28;01mwith\u001b[39;00m \u001b[38;5;28mself\u001b[39m\u001b[38;5;241m.\u001b[39m_mutex:\n\u001b[0;32m    109\u001b[0m     \u001b[38;5;28;01mif\u001b[39;00m key \u001b[38;5;129;01mnot\u001b[39;00m \u001b[38;5;129;01min\u001b[39;00m \u001b[38;5;28mself\u001b[39m\u001b[38;5;241m.\u001b[39m_buckets:\n\u001b[1;32m--> 110\u001b[0m         \u001b[38;5;28;01mraise\u001b[39;00m \u001b[38;5;167;01mKeyError\u001b[39;00m(\u001b[38;5;124m\"\u001b[39m\u001b[38;5;124mKey \u001b[39m\u001b[38;5;132;01m%s\u001b[39;00m\u001b[38;5;124m was not found in Reservoir\u001b[39m\u001b[38;5;124m\"\u001b[39m \u001b[38;5;241m%\u001b[39m key)\n\u001b[0;32m    111\u001b[0m     bucket \u001b[38;5;241m=\u001b[39m \u001b[38;5;28mself\u001b[39m\u001b[38;5;241m.\u001b[39m_buckets[key]\n\u001b[0;32m    112\u001b[0m \u001b[38;5;28;01mreturn\u001b[39;00m bucket\u001b[38;5;241m.\u001b[39mItems()\n",
      "\u001b[1;31mKeyError\u001b[0m: 'Key ep_rew_mean was not found in Reservoir'"
     ]
    }
   ],
   "source": [
    "import matplotlib.pyplot as plt\n",
    "\n",
    "# Definir a tag que você deseja plotar\n",
    "tag = 'epi_reward_100'\n",
    "tag2 = \"ep_rew_mean\"\n",
    "\n",
    "# Extrair os valores de scalars do arquivo antigo\n",
    "scalars_old = event_accumulator_old.Scalars(tag)\n",
    "steps_old = [scalar.step for scalar in scalars_old]\n",
    "values_old = [scalar.value for scalar in scalars_old]\n",
    "\n",
    "# Extrair os valores de scalars do arquivo novo\n",
    "scalars_new = event_accumulator_new.Scalars(tag2)\n",
    "steps_new = [scalar.step for scalar in scalars_new]\n",
    "values_new = [scalar.value for scalar in scalars_new]\n",
    "\n",
    "# Plotar os gráficos\n",
    "plt.plot(steps_old, values_old, label='Antigo')\n",
    "plt.plot(steps_new, values_new, label='Novo')\n",
    "plt.xlabel('Passos')\n",
    "plt.ylabel('Valores')\n",
    "plt.title('Comparação entre os arquivos de eventos antigo e novo')\n",
    "plt.legend()\n",
    "plt.show()\n"
   ]
  }
 ],
 "metadata": {
  "kernelspec": {
   "display_name": "rl23",
   "language": "python",
   "name": "python3"
  },
  "language_info": {
   "codemirror_mode": {
    "name": "ipython",
    "version": 3
   },
   "file_extension": ".py",
   "mimetype": "text/x-python",
   "name": "python",
   "nbconvert_exporter": "python",
   "pygments_lexer": "ipython3",
   "version": "3.11.6"
  }
 },
 "nbformat": 4,
 "nbformat_minor": 2
}
