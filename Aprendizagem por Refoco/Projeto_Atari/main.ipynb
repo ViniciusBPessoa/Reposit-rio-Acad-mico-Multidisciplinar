{
 "cells": [
  {
   "cell_type": "markdown",
   "metadata": {},
   "source": [
    "### Inicialização (fazendo o arquivo se encotrar no repositorio)"
   ]
  },
  {
   "cell_type": "code",
   "execution_count": 1,
   "metadata": {},
   "outputs": [
    {
     "name": "stdout",
     "output_type": "stream",
     "text": [
      "pygame 2.5.2 (SDL 2.28.3, Python 3.11.6)\n",
      "Hello from the pygame community. https://www.pygame.org/contribute.html\n"
     ]
    }
   ],
   "source": [
    "import pygame\n",
    "import sys\n",
    "from os import path, getcwd\n",
    "\n",
    "# Obtém o caminho do diretório do script atual\n",
    "script_dir = getcwd()\n",
    "\n",
    "# Adiciona o diretório pai ao caminho do sistema\n",
    "sys.path.append(path.dirname(script_dir))\n"
   ]
  },
  {
   "cell_type": "markdown",
   "metadata": {},
   "source": [
    "### Importando libs necessárias"
   ]
  },
  {
   "cell_type": "code",
   "execution_count": 2,
   "metadata": {},
   "outputs": [],
   "source": [
    "import time\n",
    "from datetime import datetime\n",
    "import collections\n",
    "\n",
    "import numpy as np\n",
    "import torch\n",
    "import torch.nn as nn\n",
    "import torch.optim as optim\n",
    "\n",
    "import matplotlib.pyplot as plt"
   ]
  },
  {
   "cell_type": "markdown",
   "metadata": {},
   "source": [
    "1 - importando os modulos DQN e de edição de imagens\n",
    "\n",
    "2 - inicializando o pytorch com CPU ou GPU caso a mesma esteja disponível "
   ]
  },
  {
   "cell_type": "code",
   "execution_count": 7,
   "metadata": {},
   "outputs": [],
   "source": [
    "from modelos import dqn_models\n",
    "from wrappers.atari_wrappers import *\n",
    "\n",
    "import gymnasium as gym\n",
    "\n",
    "# verifica a disponibilidade da GPU\n",
    "if torch.cuda.is_available():\n",
    "    is_gpu = torch.device(\"cuda\")\n",
    "else:\n",
    "    is_gpu = torch.device(\"cpu\")\n",
    "\n",
    "torch.set_default_device(is_gpu) # instanciando onde a rede neural deve rodar "
   ]
  },
  {
   "cell_type": "code",
   "execution_count": null,
   "metadata": {},
   "outputs": [],
   "source": []
  }
 ],
 "metadata": {
  "kernelspec": {
   "display_name": "Python 3",
   "language": "python",
   "name": "python3"
  },
  "language_info": {
   "codemirror_mode": {
    "name": "ipython",
    "version": 3
   },
   "file_extension": ".py",
   "mimetype": "text/x-python",
   "name": "python",
   "nbconvert_exporter": "python",
   "pygments_lexer": "ipython3",
   "version": "3.11.6"
  }
 },
 "nbformat": 4,
 "nbformat_minor": 2
}
