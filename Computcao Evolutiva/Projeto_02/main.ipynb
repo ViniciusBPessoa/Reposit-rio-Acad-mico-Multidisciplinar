{
 "cells": [
  {
   "cell_type": "markdown",
   "metadata": {},
   "source": [
    "### Projeto comparação entre algoritmos e modelos de Computação evolutiva"
   ]
  },
  {
   "cell_type": "markdown",
   "metadata": {},
   "source": [
    "Achando o diretório em que esse arquivo se encontra "
   ]
  },
  {
   "cell_type": "code",
   "execution_count": null,
   "metadata": {},
   "outputs": [],
   "source": [
    "import sys\n",
    "import os\n",
    "\n",
    "# Obtém o caminho do diretório do script atual\n",
    "script_dir = os.getcwd()\n",
    "\n",
    "# Adiciona o diretório pai ao caminho do sistema\n",
    "sys.path.append(script_dir)"
   ]
  },
  {
   "cell_type": "code",
   "execution_count": null,
   "metadata": {},
   "outputs": [],
   "source": [
    "import pygame # Nos repositórios de referência essa lib é sempre importada tendo em vista que o gymnasium (gym) utiliza a mesma, deve evitar problemas\n",
    "\n",
    "import time # será utilizada para coletar o período temporal necessário para que algumas funções sejam executadas\n",
    "import numpy as np # numpy por motivos óbvios  \n",
    "\n",
    "import torch # Todas as redes neurais serão criados utilizando PyTorch\n",
    "import torch.nn as nn\n",
    "import torch.optim as optim\n",
    "\n",
    "from redes_neurais.rede_MLP import MLP\n",
    "\n",
    "import matplotlib.pyplot as plt # Demonstração de Gráficos e imagens "
   ]
  },
  {
   "cell_type": "code",
   "execution_count": null,
   "metadata": {},
   "outputs": [],
   "source": [
    "import gymnasium as gym"
   ]
  },
  {
   "cell_type": "code",
   "execution_count": null,
   "metadata": {},
   "outputs": [],
   "source": [
    "def treinamento_Foda():\n",
    "    "
   ]
  }
 ],
 "metadata": {
  "kernelspec": {
   "display_name": "APR24",
   "language": "python",
   "name": "python3"
  },
  "language_info": {
   "codemirror_mode": {
    "name": "ipython",
    "version": 3
   },
   "file_extension": ".py",
   "mimetype": "text/x-python",
   "name": "python",
   "nbconvert_exporter": "python",
   "pygments_lexer": "ipython3",
   "version": "3.11.6"
  }
 },
 "nbformat": 4,
 "nbformat_minor": 2
}
