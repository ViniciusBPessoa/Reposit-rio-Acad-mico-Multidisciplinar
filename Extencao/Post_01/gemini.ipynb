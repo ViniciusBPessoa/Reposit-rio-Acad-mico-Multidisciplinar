{
 "cells": [
  {
   "cell_type": "markdown",
   "metadata": {},
   "source": [
    "## Objetivos\n",
    "\n",
    "- assumir que o usuário conhece a interface do ChatGPT, explicar objetivo de mostrar como integrar em algum projeto\n",
    "- seguir o estilo de um tutorial, com uma sequência linear de ações\n",
    "- mostrar passo-a-passo para cadastrar-se na OpenAI, inserir crédito e gerar chave (deixar fácil, mas tentar não deixar longo demais)\n",
    "- mostrar como programar para gerar um “completion” simples\n",
    "- mostrar como programar para gerar um chat (troca de mensagens, com histórico)\n",
    "- considerar se fala de envio de imagens\n",
    "- Seguir as mesmas dicas dadas para a [postagem da OpenAI](https://www.notion.so/Postagem-OpenAI-ChatGPT-b0830284551f496bb1b8cbe5e2d7decf?pvs=21)\n",
    "- Falar de opções de uso/teste gratuito\n",
    "- Destacar que, apesar de menos conhecido do público geral, o Gemini 1.5 disputa (bem) com o GPT-4o\n",
    "\n",
    "- https://ai.google.dev/gemini-api/docs - boa documentação do Google\n",
    "- https://ai.google.dev/gemini-api/docs/api-overview - boa visão geral"
   ]
  },
  {
   "cell_type": "code",
   "execution_count": 2,
   "metadata": {},
   "outputs": [],
   "source": [
    "import sys\n",
    "import os\n",
    "script_dir = os.getcwd()\n",
    "sys.path.append(script_dir)"
   ]
  },
  {
   "cell_type": "markdown",
   "metadata": {},
   "source": [
    "# Utilizando a API do google Gemini"
   ]
  },
  {
   "cell_type": "markdown",
   "metadata": {},
   "source": [
    "Já vimos aqui no blog como ocorre a interação com inteligências artificiais generativas como o **ChatGPT** e o **Google Gemini**. Porém, para que possamos integrá-los a aplicações ou automatizar o uso mesmo que para projetos menores, é necessário que utilizemos a sua **API** (Interface de Programação de Aplicações).\n",
    "\n",
    "Limitações do uso comum de IAs generativas, sem uso de API:\n",
    "\n",
    "- Incapacidade de acessar ou interagir com dados específicos do usuário, como calendários ou bases de dados privadas.\n",
    "- Dificuldade em realizar tarefas específicas, como cálculos complexos ou ações baseadas em comandos.\n",
    "- Falta de personalização e adaptação a contextos específicos de aplicações.\n",
    "- Limitação em interagir com outras ferramentas e serviços externos.\n",
    "- Impossibilidade de automação de processos específicos e repetitivos.\n",
    "\n",
    "\n",
    "\n",
    "Neste documento, você saberá como acessar e utilizar o **Google Gemini** para esse fim.\n",
    "\n",
    "![Exemplo de imagem](Extencao\\Post_01\\Imagens\\image.png)\n"
   ]
  },
  {
   "cell_type": "markdown",
   "metadata": {},
   "source": [
    "## 1 - Debate comparativos sobre os modelos"
   ]
  },
  {
   "cell_type": "markdown",
   "metadata": {},
   "source": [
    "Nesse caso primeiramente devemos realizar um debate sobre as capacidades do Google Gemini em relação ao ChatGPT.\n",
    "\n",
    "(inserir aqui explicação sobre eficacia de ambos os modelos de linguagem)"
   ]
  },
  {
   "cell_type": "markdown",
   "metadata": {},
   "source": [
    "## 2 - Configurações Iniciais"
   ]
  },
  {
   "cell_type": "markdown",
   "metadata": {},
   "source": [
    "Você vai precisar gerar uma chave da API GOOGLE, salvar com o nome GOOGLE_API_KEY em um arquivo `.env` e carregar este arquivo com o módulo `dotenv`. \n",
    "\n",
    "Qualquer dúvida, ver *postagem anterior* (onde teria sido ensinado como usar o básico do Google Gemini)."
   ]
  },
  {
   "cell_type": "code",
   "execution_count": 3,
   "metadata": {},
   "outputs": [],
   "source": []
  }
 ],
 "metadata": {
  "kernelspec": {
   "display_name": "Python 3",
   "language": "python",
   "name": "python3"
  },
  "language_info": {
   "codemirror_mode": {
    "name": "ipython",
    "version": 3
   },
   "file_extension": ".py",
   "mimetype": "text/x-python",
   "name": "python",
   "nbconvert_exporter": "python",
   "pygments_lexer": "ipython3",
   "version": "3.11.4"
  }
 },
 "nbformat": 4,
 "nbformat_minor": 2
}
