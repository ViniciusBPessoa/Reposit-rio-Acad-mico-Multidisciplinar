{
 "cells": [
  {
   "cell_type": "code",
   "execution_count": 45,
   "metadata": {},
   "outputs": [],
   "source": [
    "from __future__ import print_function\n",
    "import datetime\n",
    "import os.path\n",
    "import pickle\n",
    "from google.auth.transport.requests import Request\n",
    "from google.oauth2.credentials import Credentials\n",
    "from google_auth_oauthlib.flow import InstalledAppFlow\n",
    "from googleapiclient.discovery import build"
   ]
  },
  {
   "cell_type": "code",
   "execution_count": 46,
   "metadata": {},
   "outputs": [],
   "source": [
    "import sys\n",
    "import os\n",
    "script_dir = os.getcwd()\n",
    "sys.path.append(script_dir)"
   ]
  },
  {
   "cell_type": "code",
   "execution_count": 47,
   "metadata": {},
   "outputs": [],
   "source": [
    "SCOPES = ['https://www.googleapis.com/auth/calendar']"
   ]
  },
  {
   "cell_type": "code",
   "execution_count": 38,
   "metadata": {},
   "outputs": [],
   "source": [
    "def get_credentials():\n",
    "    creds = None\n",
    "    if os.path.exists('token.pickle'):\n",
    "        with open('token.pickle', 'rb') as token:\n",
    "            creds = pickle.load(token)\n",
    "            \n",
    "    if not creds or not creds.valid:\n",
    "        if creds and creds.expired and creds.refresh_token:\n",
    "            creds.refresh(Request())\n",
    "        else:\n",
    "            flow = InstalledAppFlow.from_client_secrets_file('credentials.json', SCOPES)\n",
    "            creds = flow.run_local_server(port=8080)\n",
    "        with open('token.pickle', 'wb') as token:\n",
    "            pickle.dump(creds, token)\n",
    "    return creds"
   ]
  },
  {
   "cell_type": "code",
   "execution_count": 39,
   "metadata": {},
   "outputs": [],
   "source": [
    "def adicionar_evento(service, resumo, local, descricao, inicio, fim):\n",
    "    evento = {\n",
    "        'summary': resumo,\n",
    "        'location': local,\n",
    "        'description': descricao,\n",
    "        'start': {\n",
    "            'dateTime': inicio,\n",
    "            'timeZone': 'America/Sao_Paulo',\n",
    "        },\n",
    "        'end': {\n",
    "            'dateTime': fim,\n",
    "            'timeZone': 'America/Sao_Paulo',\n",
    "        },\n",
    "        'reminders': {\n",
    "            'useDefault': False,\n",
    "            'overrides': [\n",
    "                {'method': 'email', 'minutes': 24 * 60},\n",
    "                {'method': 'popup', 'minutes': 10},\n",
    "            ],\n",
    "        },\n",
    "    }\n",
    "    evento = service.events().insert(calendarId='primary', body=evento).execute()\n",
    "    print(f'Evento criado: {evento.get(\"htmlLink\")}')\n",
    "    return evento\n"
   ]
  },
  {
   "cell_type": "code",
   "execution_count": 40,
   "metadata": {},
   "outputs": [],
   "source": [
    "def buscar_eventos(service, dias_fim):\n",
    "    agora = datetime.datetime.utcnow().isoformat() + 'Z'  # 'Z' indica UTC\n",
    "    fim_periodo = (datetime.datetime.utcnow() + datetime.timedelta(days=dias_fim)).isoformat() + 'Z'\n",
    "\n",
    "    eventos_resultados = service.events().list(\n",
    "        calendarId='primary',\n",
    "        timeMin=agora,\n",
    "        timeMax=fim_periodo,\n",
    "        singleEvents=True,\n",
    "        orderBy='startTime'\n",
    "    ).execute()\n",
    "    eventos = eventos_resultados.get('items', [])\n",
    "\n",
    "    if not eventos:\n",
    "        print('Nenhum evento encontrado.')\n",
    "    for evento in eventos:\n",
    "        inicio = evento['start'].get('dateTime', evento['start'].get('date'))\n",
    "        print(inicio, evento['summary'])\n",
    "    return eventos\n"
   ]
  },
  {
   "cell_type": "code",
   "execution_count": 41,
   "metadata": {},
   "outputs": [],
   "source": [
    "def buscar_eventos_por_horas(service, horas_fim):\n",
    "    agora = datetime.datetime.utcnow().isoformat() + 'Z'  # 'Z' indica UTC\n",
    "    fim_periodo = (datetime.datetime.utcnow() + datetime.timedelta(hours=horas_fim)).isoformat() + 'Z'\n",
    "\n",
    "    eventos_resultados = service.events().list(\n",
    "        calendarId='primary',\n",
    "        timeMin=agora,\n",
    "        timeMax=fim_periodo,\n",
    "        singleEvents=True,\n",
    "        orderBy='startTime'\n",
    "    ).execute()\n",
    "\n",
    "    eventos = eventos_resultados.get('items', [])\n",
    "\n",
    "    if not eventos:\n",
    "        print('Nenhum evento encontrado.')\n",
    "    for evento in eventos:\n",
    "        inicio = evento['start'].get('dateTime', evento['start'].get('date'))\n",
    "        print(inicio, evento['summary'])\n",
    "    return eventos\n"
   ]
  },
  {
   "cell_type": "code",
   "execution_count": 42,
   "metadata": {},
   "outputs": [],
   "source": [
    "def deletar_evento(service, event_id):\n",
    "    try:\n",
    "        service.events().delete(calendarId='primary', eventId=event_id).execute()\n",
    "        print(f'Evento {event_id} deletado com sucesso.')\n",
    "    except Exception as e:\n",
    "        print(f'Erro ao deletar o evento: {e}')"
   ]
  },
  {
   "cell_type": "code",
   "execution_count": 51,
   "metadata": {},
   "outputs": [],
   "source": [
    "def main():\n",
    "    creds = get_credentials()\n",
    "    service = build('calendar', 'v3', credentials=creds)\n",
    "\n",
    "    # Testando adicionar um evento\n",
    "    print(\"Adicionando evento...\")\n",
    "    evento = adicionar_evento(service, 'Reunião de Teste', 'Remoto', 'Reunião de teste via API do Google Calendar.',\n",
    "                              '2024-07-01T20:00:00-03:00', '2024-07-01T21:00:00-03:00')\n",
    "\n",
    "    # Testando buscar eventos em um período de 7 dias\n",
    "    print(\"\\nBuscando eventos para os próximos 7 dias...\")\n",
    "    buscar_eventos(service, 7)\n",
    "\n",
    "    # Testando buscar eventos em um período de 24 horas\n",
    "    print(\"\\nBuscando eventos para as próximas 24 horas...\")\n",
    "    buscar_eventos_por_horas(service, 24)\n",
    "\n",
    "    # Testando deletar um evento\n",
    "    print(\"\\nDeletando evento adicionado...\")\n",
    "    deletar_evento(service, evento['id'])"
   ]
  },
  {
   "cell_type": "code",
   "execution_count": 53,
   "metadata": {},
   "outputs": [
    {
     "name": "stdout",
     "output_type": "stream",
     "text": [
      "Please visit this URL to authorize this application: https://accounts.google.com/o/oauth2/auth?response_type=code&client_id=1173353199-m995knl2ls4bm89bvo1hj7ohk1lt59l2.apps.googleusercontent.com&redirect_uri=http%3A%2F%2Flocalhost%3A8080%2F&scope=https%3A%2F%2Fwww.googleapis.com%2Fauth%2Fcalendar&state=Z9zYSIYmemoECbCJKw6m6hfb59uf7e&access_type=offline\n"
     ]
    }
   ],
   "source": [
    "main()"
   ]
  }
 ],
 "metadata": {
  "kernelspec": {
   "display_name": "Python 3",
   "language": "python",
   "name": "python3"
  },
  "language_info": {
   "codemirror_mode": {
    "name": "ipython",
    "version": 3
   },
   "file_extension": ".py",
   "mimetype": "text/x-python",
   "name": "python",
   "nbconvert_exporter": "python",
   "pygments_lexer": "ipython3",
   "version": "3.11.4"
  }
 },
 "nbformat": 4,
 "nbformat_minor": 2
}
