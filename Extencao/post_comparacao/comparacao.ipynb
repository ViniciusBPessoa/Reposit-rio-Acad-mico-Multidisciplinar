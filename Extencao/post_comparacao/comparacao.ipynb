{
 "cells": [
  {
   "cell_type": "markdown",
   "metadata": {},
   "source": [
    "# 6 - Comparação de modelos"
   ]
  },
  {
   "cell_type": "markdown",
   "metadata": {},
   "source": [
    "Primeiramente vamos rever a lista de modelos existentes no **Google Gemini**."
   ]
  },
  {
   "cell_type": "code",
   "execution_count": null,
   "metadata": {},
   "outputs": [
    {
     "name": "stdout",
     "output_type": "stream",
     "text": [
      "models/gemini-1.0-pro\n",
      "models/gemini-1.0-pro-001\n",
      "models/gemini-1.0-pro-latest\n",
      "models/gemini-1.0-pro-vision-latest\n",
      "models/gemini-1.5-flash\n",
      "models/gemini-1.5-flash-001\n",
      "models/gemini-1.5-flash-latest\n",
      "models/gemini-1.5-pro\n",
      "models/gemini-1.5-pro-001\n",
      "models/gemini-1.5-pro-latest\n",
      "models/gemini-pro\n",
      "models/gemini-pro-vision\n"
     ]
    }
   ],
   "source": [
    "for m in modelos:\n",
    "    if 'generateContent' in m.supported_generation_methods:\n",
    "        print(m.name)"
   ]
  },
  {
   "cell_type": "markdown",
   "metadata": {},
   "source": [
    "### Modelo Gemini 1.5 Flash\n",
    "\n",
    "O Gemini 1.5 Flash é um modelo multimodal rápido e versátil, projetado para escalonamento em diversas tarefas. Este modelo pode lidar com entradas em diferentes formatos, oferecendo saídas textuais eficientes.\n",
    "\n",
    "#### Detalhes do Modelo\n",
    "\n",
    "#### Propriedade e Descrição\n",
    "\n",
    "- **Código do modelo**: `gemini-1.5-flash-latest`\n",
    "- **Entradas**: Áudio, imagens, vídeo e texto\n",
    "- **Saída**: Texto\n",
    "- **Métodos de geração com suporte**: `generateContent`\n",
    "- **Versão mais recente**: `gemini-1.5-flash-latest`\n",
    "- **Versão estável mais recente**: `gemini-1.5-flash`\n",
    "\n",
    "#### Limites e Capacidades\n",
    "\n",
    "- **Limite de tokens de entrada**: 1.048.576\n",
    "- **Limite de tokens de saída**: 8.192\n",
    "- **Número máximo de imagens por comando**: 3.600\n",
    "- **Duração máxima do vídeo**: 1 hora\n",
    "- **Duração máxima do áudio**: Aproximadamente 9,5 horas\n",
    "- **Número máximo de arquivos de áudio por comando**: 1\n",
    "\n",
    "#### Limites de Taxa\n",
    "\n",
    "- **Sem custo financeiro**:\n",
    "  - **15 RPM**: Requisições por minuto\n",
    "  - **1 milhão TPM**: Tokens por mês\n",
    "  - **1.500 RPD**: Requisições por dia\n",
    "\n",
    "- **Pay-as-you-go**:\n",
    "  - **360 RPM**: Requisições por minuto\n",
    "  - **10 milhões TPM**: Tokens por mês\n",
    "  - **10.000 RPD**: Requisições por dia\n",
    "\n",
    "#### Funcionalidades Adicionais\n",
    "\n",
    "- **Instruções do sistema**: Compatível\n",
    "- **Modo JSON**: Compatível\n"
   ]
  },
  {
   "cell_type": "markdown",
   "metadata": {},
   "source": [
    "### Modelo Gemini 1.5 Pro\n",
    "\n",
    "O Gemini 1.5 Pro é um modelo multimodal avançado, projetado para lidar com diversas entradas e fornecer saídas textuais eficientes. Este modelo oferece capacidades robustas para processamento de áudio, imagens, vídeo e texto.\n",
    "\n",
    "#### Detalhes do Modelo\n",
    "\n",
    "#### Propriedade e Descrição\n",
    "\n",
    "- **Código do modelo**: `models/gemini-1.5-pro-latest`\n",
    "- **Entradas**: Áudio, imagens, vídeo e texto\n",
    "- **Saída**: Texto\n",
    "- **Métodos de geração com suporte**: `generateContent`\n",
    "- **Versão mais recente**: `gemini-1.5-pro-latest`\n",
    "- **Versão estável mais recente**: `gemini-1.5-pro`\n",
    "- **Atualização mais recente**: Abril de 2024\n",
    "\n",
    "#### Limites e Capacidades\n",
    "\n",
    "- **Limite de tokens de entrada**: 1.048.576\n",
    "- **Limite de tokens de saída**: 8.192\n",
    "- **Número máximo de imagens por comando**: 3.600\n",
    "- **Duração máxima do vídeo**: 1 hora\n",
    "- **Duração máxima do áudio**: Aproximadamente 9,5 horas\n",
    "- **Número máximo de arquivos de áudio por comando**: 1\n",
    "\n",
    "#### Limites de Taxa\n",
    "\n",
    "- **Sem custo financeiro**:\n",
    "  - **2 RPM**: Requisições por minuto\n",
    "  - **32.000 TPM**: Tokens por mês\n",
    "  - **50 RPD**: Requisições por dia\n",
    "  - **46.080.000 TPD**: Tokens por dia\n",
    "\n",
    "- **Pay-as-you-go**:\n",
    "  - **360 RPM**: Requisições por minuto\n",
    "  - **10 milhões TPM**: Tokens por mês\n",
    "  - **10.000 RPD**: Requisições por dia\n",
    "  - **14.400.000.000 TPD**: Tokens por dia\n",
    "\n",
    "  - **Contexto de dois milhões**:\n",
    "  - **1 RPM**: Requisições por minuto\n",
    "  - **2 milhões TPM**: Tokens por mês\n",
    "  - **50 RPD**: Requisições por dia\n",
    "\n",
    "#### Funcionalidades Adicionais\n",
    "\n",
    "- **Instruções do sistema**: Compatível\n",
    "- **Modo JSON**: Compatível\n"
   ]
  },
  {
   "cell_type": "markdown",
   "metadata": {},
   "source": [
    "Para mais informações acesse o seguinte site: [Google Gemini models.](https://ai.google.dev/gemini-api/docs/models/gemini?hl=pt-br)"
   ]
  },
  {
   "cell_type": "markdown",
   "metadata": {},
   "source": [
    "**Restante Inserir a área de comparação com ChatGPT**\n",
    "\n",
    "**Caso seja aprovado criar o requirements.txt**"
   ]
  },
  {
   "cell_type": "markdown",
   "metadata": {},
   "source": [
    "Como visto vou pegar modelos mais atualizados (No momento dessa publicação) os 1.5 em sua verção Pro e Flash."
   ]
  }
 ],
 "metadata": {
  "language_info": {
   "name": "python"
  }
 },
 "nbformat": 4,
 "nbformat_minor": 2
}
